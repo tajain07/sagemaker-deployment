{
  "nbformat": 4,
  "nbformat_minor": 0,
  "metadata": {
    "colab": {
      "name": "SageMaker Project.ipynb",
      "version": "0.3.2",
      "provenance": [],
      "collapsed_sections": [
        "pF2GxrzgO0F7",
        "cD6RwHmkO0GB",
        "ql4uDYqhO0Gj",
        "T2PR8vsqO0Gt",
        "OJcjUCtBO0G0",
        "AV1AGxw3O0G6",
        "XVSRbFxSO0HR",
        "65eyF4DhO0HW"
      ]
    },
    "kernelspec": {
      "name": "python3",
      "display_name": "Python 3"
    },
    "accelerator": "GPU"
  },
  "cells": [
    {
      "metadata": {
        "id": "aalXHvgUO0Ec",
        "colab_type": "text"
      },
      "cell_type": "markdown",
      "source": [
        "# Creating a Sentiment Analysis Web App\n",
        "## Using PyTorch and SageMaker\n",
        "\n",
        "_Deep Learning Nanodegree Program | Deployment_\n",
        "\n",
        "---\n",
        "\n",
        "Now that we have a basic understanding of how SageMaker works we will try to use it to construct a complete project from end to end. Our goal will be to have a simple web page which a user can use to enter a movie review. The web page will then send the review off to our deployed model which will predict the sentiment of the entered review.\n",
        "\n",
        "## Instructions\n",
        "\n",
        "Some template code has already been provided for you, and you will need to implement additional functionality to successfully complete this notebook. You will not need to modify the included code beyond what is requested. Sections that begin with '**TODO**' in the header indicate that you need to complete or implement some portion within them. Instructions will be provided for each section and the specifics of the implementation are marked in the code block with a `# TODO: ...` comment. Please be sure to read the instructions carefully!\n",
        "\n",
        "In addition to implementing code, there will be questions for you to answer which relate to the task and your implementation. Each section where you will answer a question is preceded by a '**Question:**' header. Carefully read each question and provide your answer below the '**Answer:**' header by editing the Markdown cell.\n",
        "\n",
        "> **Note**: Code and Markdown cells can be executed using the **Shift+Enter** keyboard shortcut. In addition, a cell can be edited by typically clicking it (double-click for Markdown cells) or by pressing **Enter** while it is highlighted.\n",
        "\n",
        "## General Outline\n",
        "\n",
        "Recall the general outline for SageMaker projects using a notebook instance.\n",
        "\n",
        "1. Download or otherwise retrieve the data.\n",
        "2. Process / Prepare the data.\n",
        "3. Upload the processed data to S3.\n",
        "4. Train a chosen model.\n",
        "5. Test the trained model (typically using a batch transform job).\n",
        "6. Deploy the trained model.\n",
        "7. Use the deployed model.\n",
        "\n",
        "For this project, you will be following the steps in the general outline with some modifications. \n",
        "\n",
        "First, you will not be testing the model in its own step. You will still be testing the model, however, you will do it by deploying your model and then using the deployed model by sending the test data to it. One of the reasons for doing this is so that you can make sure that your deployed model is working correctly before moving forward.\n",
        "\n",
        "In addition, you will deploy and use your trained model a second time. In the second iteration you will customize the way that your trained model is deployed by including some of your own code. In addition, your newly deployed model will be used in the sentiment analysis web app."
      ]
    },
    {
      "metadata": {
        "id": "1cLzvKEXO0Ee",
        "colab_type": "text"
      },
      "cell_type": "markdown",
      "source": [
        "## Step 1: Downloading the data\n",
        "\n",
        "As in the XGBoost in SageMaker notebook, we will be using the [IMDb dataset](http://ai.stanford.edu/~amaas/data/sentiment/)\n",
        "\n",
        "> Maas, Andrew L., et al. [Learning Word Vectors for Sentiment Analysis](http://ai.stanford.edu/~amaas/data/sentiment/). In _Proceedings of the 49th Annual Meeting of the Association for Computational Linguistics: Human Language Technologies_. Association for Computational Linguistics, 2011."
      ]
    },
    {
      "metadata": {
        "id": "ynkDZ3AWO0Ef",
        "colab_type": "code",
        "outputId": "67e24027-a3ee-4d85-c41b-bf934cb846d6",
        "colab": {
          "base_uri": "https://localhost:8080/",
          "height": 221
        }
      },
      "cell_type": "code",
      "source": [
        "%mkdir ../data\n",
        "!wget -O ../data/aclImdb_v1.tar.gz http://ai.stanford.edu/~amaas/data/sentiment/aclImdb_v1.tar.gz\n",
        "!tar -zxf ../data/aclImdb_v1.tar.gz -C ../data"
      ],
      "execution_count": 96,
      "outputs": [
        {
          "output_type": "stream",
          "text": [
            "mkdir: cannot create directory ‘../data’: File exists\n",
            "--2019-03-07 18:47:34--  http://ai.stanford.edu/~amaas/data/sentiment/aclImdb_v1.tar.gz\n",
            "Resolving ai.stanford.edu (ai.stanford.edu)... 171.64.68.10\n",
            "Connecting to ai.stanford.edu (ai.stanford.edu)|171.64.68.10|:80... connected.\n",
            "HTTP request sent, awaiting response... 200 OK\n",
            "Length: 84125825 (80M) [application/x-gzip]\n",
            "Saving to: ‘../data/aclImdb_v1.tar.gz’\n",
            "\n",
            "../data/aclImdb_v1. 100%[===================>]  80.23M  28.6MB/s    in 2.8s    \n",
            "\n",
            "2019-03-07 18:47:36 (28.6 MB/s) - ‘../data/aclImdb_v1.tar.gz’ saved [84125825/84125825]\n",
            "\n"
          ],
          "name": "stdout"
        }
      ]
    },
    {
      "metadata": {
        "id": "2frDhjRwO0Ej",
        "colab_type": "text"
      },
      "cell_type": "markdown",
      "source": [
        "## Step 2: Preparing and Processing the data\n",
        "\n",
        "Also, as in the XGBoost notebook, we will be doing some initial data processing. The first few steps are the same as in the XGBoost example. To begin with, we will read in each of the reviews and combine them into a single input structure. Then, we will split the dataset into a training set and a testing set."
      ]
    },
    {
      "metadata": {
        "id": "zbFUIu0BO0Ek",
        "colab_type": "code",
        "colab": {}
      },
      "cell_type": "code",
      "source": [
        "import os\n",
        "import glob\n",
        "\n",
        "def read_imdb_data(data_dir='../data/aclImdb'):\n",
        "    data = {}\n",
        "    labels = {}\n",
        "    \n",
        "    for data_type in ['train', 'test']:\n",
        "        data[data_type] = {}\n",
        "        labels[data_type] = {}\n",
        "        \n",
        "        for sentiment in ['pos', 'neg']:\n",
        "            data[data_type][sentiment] = []\n",
        "            labels[data_type][sentiment] = []\n",
        "            \n",
        "            path = os.path.join(data_dir, data_type, sentiment, '*.txt')\n",
        "            files = glob.glob(path)\n",
        "            \n",
        "            for f in files:\n",
        "                with open(f) as review:\n",
        "                    data[data_type][sentiment].append(review.read())\n",
        "                    # Here we represent a positive review by '1' and a negative review by '0'\n",
        "                    labels[data_type][sentiment].append(1 if sentiment == 'pos' else 0)\n",
        "                    \n",
        "            assert len(data[data_type][sentiment]) == len(labels[data_type][sentiment]), \\\n",
        "                    \"{}/{} data size does not match labels size\".format(data_type, sentiment)\n",
        "                \n",
        "    return data, labels"
      ],
      "execution_count": 0,
      "outputs": []
    },
    {
      "metadata": {
        "id": "UzMKSB5wO0Em",
        "colab_type": "code",
        "outputId": "7b756723-e6f5-45d0-9f9d-612da486095b",
        "colab": {
          "base_uri": "https://localhost:8080/",
          "height": 34
        }
      },
      "cell_type": "code",
      "source": [
        "data, labels = read_imdb_data()\n",
        "print(\"IMDB reviews: train = {} pos / {} neg, test = {} pos / {} neg\".format(\n",
        "            len(data['train']['pos']), len(data['train']['neg']),\n",
        "            len(data['test']['pos']), len(data['test']['neg'])))"
      ],
      "execution_count": 119,
      "outputs": [
        {
          "output_type": "stream",
          "text": [
            "IMDB reviews: train = 12500 pos / 12500 neg, test = 12500 pos / 12500 neg\n"
          ],
          "name": "stdout"
        }
      ]
    },
    {
      "metadata": {
        "id": "7u0OrCG-O0Ep",
        "colab_type": "text"
      },
      "cell_type": "markdown",
      "source": [
        "Now that we've read the raw training and testing data from the downloaded dataset, we will combine the positive and negative reviews and shuffle the resulting records."
      ]
    },
    {
      "metadata": {
        "id": "HnPu-SKqO0Eq",
        "colab_type": "code",
        "colab": {}
      },
      "cell_type": "code",
      "source": [
        "from sklearn.utils import shuffle\n",
        "\n",
        "def prepare_imdb_data(data, labels):\n",
        "    \"\"\"Prepare training and test sets from IMDb movie reviews.\"\"\"\n",
        "    \n",
        "    #Combine positive and negative reviews and labels\n",
        "    data_train = data['train']['pos'] + data['train']['neg']\n",
        "    data_test = data['test']['pos'] + data['test']['neg']\n",
        "    labels_train = labels['train']['pos'] + labels['train']['neg']\n",
        "    labels_test = labels['test']['pos'] + labels['test']['neg']\n",
        "    \n",
        "    #Shuffle reviews and corresponding labels within training and test sets\n",
        "    data_train, labels_train = shuffle(data_train, labels_train)\n",
        "    data_test, labels_test = shuffle(data_test, labels_test)\n",
        "    \n",
        "    # Return a unified training data, test data, training labels, test labets\n",
        "    return data_train, data_test, labels_train, labels_test"
      ],
      "execution_count": 0,
      "outputs": []
    },
    {
      "metadata": {
        "id": "aUbOQznOO0Es",
        "colab_type": "code",
        "outputId": "599a01e5-ce6f-4781-a479-e9d3454f50ed",
        "colab": {
          "base_uri": "https://localhost:8080/",
          "height": 34
        }
      },
      "cell_type": "code",
      "source": [
        "train_X, test_X, train_y, test_y = prepare_imdb_data(data, labels)\n",
        "print(\"IMDb reviews (combined): train = {}, test = {}\".format(len(train_X), len(test_X)))"
      ],
      "execution_count": 121,
      "outputs": [
        {
          "output_type": "stream",
          "text": [
            "IMDb reviews (combined): train = 25000, test = 25000\n"
          ],
          "name": "stdout"
        }
      ]
    },
    {
      "metadata": {
        "id": "-MsQcMQsO0Ev",
        "colab_type": "text"
      },
      "cell_type": "markdown",
      "source": [
        "Now that we have our training and testing sets unified and prepared, we should do a quick check and see an example of the data our model will be trained on. This is generally a good idea as it allows you to see how each of the further processing steps affects the reviews and it also ensures that the data has been loaded correctly."
      ]
    },
    {
      "metadata": {
        "id": "YRVub1EkO0Ew",
        "colab_type": "code",
        "outputId": "e54b2a25-7740-4fca-dbcd-a24b6533c33a",
        "colab": {
          "base_uri": "https://localhost:8080/",
          "height": 71
        }
      },
      "cell_type": "code",
      "source": [
        "print(train_X[100])\n",
        "print(train_y[100])"
      ],
      "execution_count": 122,
      "outputs": [
        {
          "output_type": "stream",
          "text": [
            "The master of cheap erotic horror, Rolfe Kanefsky, finally makes a movie that doesn't go straight to the Playboy Channel. \"The Hazing\" borrows heavily from everything that came before it from Nightmare on Elm Street to Evil Dead, but still manages to do it with enough humor to make it watchable... just barely. The characters are cardboard, the dialogue is wooden, the story is paper-thin and the actors couldn't act their way out of a grocery bag. Put that all together and you have a pulpy ball of mulch for a movie. Sometimes, when I'm bored, I like to eat paper. Watching this movie is a lot like that. Chew on it for 90 minutes and you're left with a weird taste in your mouth and no nutritional value.\n",
            "0\n"
          ],
          "name": "stdout"
        }
      ]
    },
    {
      "metadata": {
        "id": "fR0gTfpiO0Ey",
        "colab_type": "text"
      },
      "cell_type": "markdown",
      "source": [
        "The first step in processing the reviews is to make sure that any html tags that appear should be removed. In addition we wish to tokenize our input, that way words such as *entertained* and *entertaining* are considered the same with regard to sentiment analysis."
      ]
    },
    {
      "metadata": {
        "id": "wKsn6LJ9O0E0",
        "colab_type": "code",
        "colab": {}
      },
      "cell_type": "code",
      "source": [
        "import nltk\n",
        "from nltk.corpus import stopwords\n",
        "from nltk.stem.porter import *\n",
        "\n",
        "import re\n",
        "from bs4 import BeautifulSoup\n",
        "\n",
        "def review_to_words(review):\n",
        "    nltk.download(\"stopwords\", quiet=True)\n",
        "    stemmer = PorterStemmer()\n",
        "    \n",
        "    text = BeautifulSoup(review, \"html.parser\").get_text() # Remove HTML tags\n",
        "    text = re.sub(r\"[^a-zA-Z0-9]\", \" \", text.lower()) # Convert to lower case\n",
        "    words = text.split() # Split string into words\n",
        "    words = [w for w in words if w not in stopwords.words(\"english\")] # Remove stopwords\n",
        "    words = [PorterStemmer().stem(w) for w in words] # stem\n",
        "    \n",
        "    return words"
      ],
      "execution_count": 0,
      "outputs": []
    },
    {
      "metadata": {
        "id": "a4jwog59O0E3",
        "colab_type": "text"
      },
      "cell_type": "markdown",
      "source": [
        "The `review_to_words` method defined above uses `BeautifulSoup` to remove any html tags that appear and uses the `nltk` package to tokenize the reviews. As a check to ensure we know how everything is working, try applying `review_to_words` to one of the reviews in the training set."
      ]
    },
    {
      "metadata": {
        "id": "w5gSy2DdO0E4",
        "colab_type": "code",
        "outputId": "37b9b602-e407-4470-cd90-f379b7d924dd",
        "colab": {
          "base_uri": "https://localhost:8080/",
          "height": 1139
        }
      },
      "cell_type": "code",
      "source": [
        "# TODO: Apply review_to_words to a review (train_X[100] or any other review)\n",
        "review_to_words(train_X[100])"
      ],
      "execution_count": 124,
      "outputs": [
        {
          "output_type": "execute_result",
          "data": {
            "text/plain": [
              "['master',\n",
              " 'cheap',\n",
              " 'erot',\n",
              " 'horror',\n",
              " 'rolf',\n",
              " 'kanefski',\n",
              " 'final',\n",
              " 'make',\n",
              " 'movi',\n",
              " 'go',\n",
              " 'straight',\n",
              " 'playboy',\n",
              " 'channel',\n",
              " 'haze',\n",
              " 'borrow',\n",
              " 'heavili',\n",
              " 'everyth',\n",
              " 'came',\n",
              " 'nightmar',\n",
              " 'elm',\n",
              " 'street',\n",
              " 'evil',\n",
              " 'dead',\n",
              " 'still',\n",
              " 'manag',\n",
              " 'enough',\n",
              " 'humor',\n",
              " 'make',\n",
              " 'watchabl',\n",
              " 'bare',\n",
              " 'charact',\n",
              " 'cardboard',\n",
              " 'dialogu',\n",
              " 'wooden',\n",
              " 'stori',\n",
              " 'paper',\n",
              " 'thin',\n",
              " 'actor',\n",
              " 'act',\n",
              " 'way',\n",
              " 'groceri',\n",
              " 'bag',\n",
              " 'put',\n",
              " 'togeth',\n",
              " 'pulpi',\n",
              " 'ball',\n",
              " 'mulch',\n",
              " 'movi',\n",
              " 'sometim',\n",
              " 'bore',\n",
              " 'like',\n",
              " 'eat',\n",
              " 'paper',\n",
              " 'watch',\n",
              " 'movi',\n",
              " 'lot',\n",
              " 'like',\n",
              " 'chew',\n",
              " '90',\n",
              " 'minut',\n",
              " 'left',\n",
              " 'weird',\n",
              " 'tast',\n",
              " 'mouth',\n",
              " 'nutrit',\n",
              " 'valu']"
            ]
          },
          "metadata": {
            "tags": []
          },
          "execution_count": 124
        }
      ]
    },
    {
      "metadata": {
        "id": "gy6lc8CGO0E7",
        "colab_type": "text"
      },
      "cell_type": "markdown",
      "source": [
        "**Question:** Above we mentioned that `review_to_words` method removes html formatting and allows us to tokenize the words found in a review, for example, converting *entertained* and *entertaining* into *entertain* so that they are treated as though they are the same word. What else, if anything, does this method do to the input?"
      ]
    },
    {
      "metadata": {
        "id": "uS7qtzemO0E7",
        "colab_type": "text"
      },
      "cell_type": "markdown",
      "source": [
        "**Answer:**"
      ]
    },
    {
      "metadata": {
        "id": "eCrhwphcO0E9",
        "colab_type": "text"
      },
      "cell_type": "markdown",
      "source": [
        "The method below applies the `review_to_words` method to each of the reviews in the training and testing datasets. In addition it caches the results. This is because performing this processing step can take a long time. This way if you are unable to complete the notebook in the current session, you can come back without needing to process the data a second time."
      ]
    },
    {
      "metadata": {
        "id": "NkmVwk0EYoIr",
        "colab_type": "code",
        "colab": {}
      },
      "cell_type": "code",
      "source": [
        "!pip install -U -q PyDrive\n",
        "from pydrive.auth import GoogleAuth\n",
        "from pydrive.drive import GoogleDrive\n",
        "from google.colab import auth\n",
        "from oauth2client.client import GoogleCredentials\n",
        "# Authenticate and create the PyDrive client.\n",
        "auth.authenticate_user()\n",
        "gauth = GoogleAuth()\n",
        "gauth.credentials = GoogleCredentials.get_application_default()\n",
        "drive = GoogleDrive(gauth)\n",
        "link = 'https://drive.google.com/open?id=1jlQkaQTrv2ew6K33TcwFbMaNgz7jLqLo'\n",
        "fluff, id = link.split('=')\n",
        "#print (id) # Verify that you have everything after '='\n",
        "import pandas as pd\n",
        "\n",
        "downloaded = drive.CreateFile({'id':id}) \n",
        "downloaded.GetContentFile('preprocessed_data_drive.pkl')  \n"
      ],
      "execution_count": 0,
      "outputs": []
    },
    {
      "metadata": {
        "id": "njGAAXksPraJ",
        "colab_type": "code",
        "outputId": "4af7cb92-c6ba-48eb-a6e6-755f797eb25f",
        "colab": {
          "base_uri": "https://localhost:8080/",
          "height": 34
        }
      },
      "cell_type": "code",
      "source": [
        "#!mkdir cache\n",
        "#!mkdir cache/sentiment_analysis\n",
        "!pwd\n",
        "!ls -lrt\n",
        "#!rm -r ../cache/sentiment_analysis\n",
        "#!rm -r sentiment_analysis\n",
        "#!du -sh /content/cache/sentiment_analysis/*\n",
        "#!mv preprocessed_data_drive.pkl /content/cache/sentiment_analysis"
      ],
      "execution_count": 4,
      "outputs": [
        {
          "output_type": "stream",
          "text": [
            "76M\t/content/cache/sentiment_analysis/preprocessed_data.pkl\n"
          ],
          "name": "stdout"
        }
      ]
    },
    {
      "metadata": {
        "id": "Ds6GWT75O0E9",
        "colab_type": "code",
        "colab": {}
      },
      "cell_type": "code",
      "source": [
        "import pickle\n",
        "\n",
        "cache_dir = os.path.join(\"cache\", \"sentiment_analysis\")  # where to store cache files\n",
        "os.path.exists(cache_dir)  # ensure cache directory exists\n",
        "\n",
        "def preprocess_data(data_train, data_test, labels_train, labels_test,\n",
        "                    cache_dir=cache_dir, cache_file=\"preprocessed_data_drive.pkl\"):\n",
        "    \"\"\"Convert each review to words; read from cache if available.\"\"\"\n",
        "\n",
        "    # If cache_file is not None, try to read from it first\n",
        "    cache_data = None\n",
        "    if cache_file is not None:\n",
        "        try:\n",
        "            with open(os.path.join(cache_dir, cache_file), \"rb\") as f:\n",
        "                cache_data = pickle.load(f)\n",
        "            print(\"Read preprocessed data from cache file:\", cache_file)\n",
        "        except:\n",
        "            pass  # unable to read from cache, but that's okay\n",
        "    \n",
        "    # If cache is missing, then do the heavy lifting\n",
        "    if cache_data is None:\n",
        "        # Preprocess training and test data to obtain words for each review\n",
        "        #words_train = list(map(review_to_words, data_train))\n",
        "        #words_test = list(map(review_to_words, data_test))\n",
        "        words_train = [review_to_words(review) for review in data_train]\n",
        "        words_test = [review_to_words(review) for review in data_test]\n",
        "        \n",
        "        # Write to cache file for future runs\n",
        "        if cache_file is not None:\n",
        "            cache_data = dict(words_train=words_train, words_test=words_test,\n",
        "                              labels_train=labels_train, labels_test=labels_test)\n",
        "            with open(os.path.join(cache_dir, cache_file), \"wb\") as f:\n",
        "                pickle.dump(cache_data, f)\n",
        "            print(\"Wrote preprocessed data to cache file:\", cache_file)\n",
        "    else:\n",
        "        # Unpack data loaded from cache file\n",
        "        words_train, words_test, labels_train, labels_test = (cache_data['words_train'],\n",
        "                cache_data['words_test'], cache_data['labels_train'], cache_data['labels_test'])\n",
        "    \n",
        "    return words_train, words_test, labels_train, labels_test"
      ],
      "execution_count": 0,
      "outputs": []
    },
    {
      "metadata": {
        "id": "DNIHR70dO0FA",
        "colab_type": "code",
        "colab": {
          "base_uri": "https://localhost:8080/",
          "height": 34
        },
        "outputId": "0f1ddbc2-39c5-455b-bf6f-5678f6a7d9f2"
      },
      "cell_type": "code",
      "source": [
        "# Preprocess data\n",
        "train_X, test_X, train_y, test_y = preprocess_data(train_X, test_X, train_y, test_y)"
      ],
      "execution_count": 127,
      "outputs": [
        {
          "output_type": "stream",
          "text": [
            "Read preprocessed data from cache file: preprocessed_data_drive.pkl\n"
          ],
          "name": "stdout"
        }
      ]
    },
    {
      "metadata": {
        "id": "5So-tqlIeYvl",
        "colab_type": "code",
        "colab": {
          "base_uri": "https://localhost:8080/",
          "height": 408
        },
        "outputId": "76fcde08-6e3b-46c9-e91b-77e50f957968"
      },
      "cell_type": "code",
      "source": [
        "train_X[100]"
      ],
      "execution_count": 128,
      "outputs": [
        {
          "output_type": "execute_result",
          "data": {
            "text/plain": [
              "['read',\n",
              " 'novel',\n",
              " 'year',\n",
              " 'ago',\n",
              " 'like',\n",
              " 'lot',\n",
              " 'saw',\n",
              " 'movi',\n",
              " 'believ',\n",
              " 'chang',\n",
              " 'everyth',\n",
              " 'like',\n",
              " 'novel',\n",
              " 'even',\n",
              " 'plot',\n",
              " 'wonder',\n",
              " 'isabel',\n",
              " 'allend',\n",
              " 'author',\n",
              " 'say',\n",
              " 'movi',\n",
              " 'think',\n",
              " 'suck']"
            ]
          },
          "metadata": {
            "tags": []
          },
          "execution_count": 128
        }
      ]
    },
    {
      "metadata": {
        "id": "wGz6FRFBO0FC",
        "colab_type": "text"
      },
      "cell_type": "markdown",
      "source": [
        "## Transform the data\n",
        "\n",
        "In the XGBoost notebook we transformed the data from its word representation to a bag-of-words feature representation. For the model we are going to construct in this notebook we will construct a feature representation which is very similar. To start, we will represent each word as an integer. Of course, some of the words that appear in the reviews occur very infrequently and so likely don't contain much information for the purposes of sentiment analysis. The way we will deal with this problem is that we will fix the size of our working vocabulary and we will only include the words that appear most frequently. We will then combine all of the infrequent words into a single category and, in our case, we will label it as `1`.\n",
        "\n",
        "Since we will be using a recurrent neural network, it will be convenient if the length of each review is the same. To do this, we will fix a size for our reviews and then pad short reviews with the category 'no word' (which we will label `0`) and truncate long reviews."
      ]
    },
    {
      "metadata": {
        "id": "xh1ZcJgiO0FD",
        "colab_type": "text"
      },
      "cell_type": "markdown",
      "source": [
        "### (TODO) Create a word dictionary\n",
        "\n",
        "To begin with, we need to construct a way to map words that appear in the reviews to integers. Here we fix the size of our vocabulary (including the 'no word' and 'infrequent' categories) to be `5000` but you may wish to change this to see how it affects the model.\n",
        "\n",
        "> **TODO:** Complete the implementation for the `build_dict()` method below. Note that even though the vocab_size is set to `5000`, we only want to construct a mapping for the most frequently appearing `4998` words. This is because we want to reserve the special labels `0` for 'no word' and `1` for 'infrequent word'."
      ]
    },
    {
      "metadata": {
        "id": "5YjPpKhRO0FE",
        "colab_type": "code",
        "colab": {}
      },
      "cell_type": "code",
      "source": [
        "import numpy as np\n",
        "from collections import Counter\n",
        "from collections import OrderedDict\n",
        "\n",
        "\n",
        "def build_dict(data, vocab_size = 5000):\n",
        "    \"\"\"Construct and return a dictionary mapping each of the most frequently appearing words to a unique integer.\"\"\"\n",
        "    \n",
        "    # TODO: Determine how often each word appears in `data`. Note that `data` is a list of sentences and that a\n",
        "    #       sentence is a list of words.\n",
        "    \n",
        "    words_counter = Counter()\n",
        "    \n",
        "    for sentence in data:\n",
        "        #print(sentence)\n",
        "        words_counter.update(sentence)\n",
        "    \n",
        "    \n",
        "    word_count = {} # A dict storing the words that appear in the reviews along with how often they occur\n",
        "    \n",
        "    for word, count in words_counter.most_common():\n",
        "      word_count[word] = count\n",
        "  \n",
        "    # TODO: Sort the words found in `data` so that sorted_words[0] is the most frequently appearing word and\n",
        "    #       sorted_words[-1] is the least frequently appearing word.\n",
        "    \n",
        "    sorted_words_dict = OrderedDict(sorted(word_count.items(), key=lambda kv: kv[1], reverse=True))\n",
        "    sorted_words = []\n",
        "    for k, v in sorted_words_dict.items():\n",
        "      sorted_words.append(k)\n",
        "      \n",
        "    word_dict = {} # This is what we are building, a dictionary that translates words into integers\n",
        "    for idx, word in enumerate(sorted_words[:vocab_size - 2]): # The -2 is so that we save room for the 'no word'\n",
        "        #print(word, idx)\n",
        "        word_dict[word] = idx + 2                              # 'infrequent' labels\n",
        "        \n",
        "    return word_dict"
      ],
      "execution_count": 0,
      "outputs": []
    },
    {
      "metadata": {
        "id": "u9OAicXwO0FG",
        "colab_type": "code",
        "outputId": "1cd23056-e8cd-4740-c1eb-4e05bbbe4cc4",
        "colab": {
          "base_uri": "https://localhost:8080/",
          "height": 54
        }
      },
      "cell_type": "code",
      "source": [
        "word_dict = build_dict(train_X)\n",
        "print(word_dict)"
      ],
      "execution_count": 130,
      "outputs": [
        {
          "output_type": "stream",
          "text": [
            "{'movi': 2, 'film': 3, 'one': 4, 'like': 5, 'time': 6, 'good': 7, 'make': 8, 'charact': 9, 'get': 10, 'see': 11, 'watch': 12, 'stori': 13, 'even': 14, 'would': 15, 'realli': 16, 'well': 17, 'scene': 18, 'look': 19, 'show': 20, 'much': 21, 'end': 22, 'peopl': 23, 'bad': 24, 'go': 25, 'great': 26, 'also': 27, 'first': 28, 'love': 29, 'think': 30, 'way': 31, 'act': 32, 'play': 33, 'made': 34, 'thing': 35, 'could': 36, 'know': 37, 'say': 38, 'seem': 39, 'work': 40, 'plot': 41, 'two': 42, 'actor': 43, 'year': 44, 'come': 45, 'mani': 46, 'seen': 47, 'take': 48, 'life': 49, 'want': 50, 'never': 51, 'littl': 52, 'best': 53, 'tri': 54, 'man': 55, 'ever': 56, 'give': 57, 'better': 58, 'still': 59, 'perform': 60, 'find': 61, 'feel': 62, 'part': 63, 'back': 64, 'use': 65, 'someth': 66, 'director': 67, 'actual': 68, 'interest': 69, 'lot': 70, 'real': 71, 'old': 72, 'cast': 73, 'though': 74, 'live': 75, 'star': 76, 'enjoy': 77, 'guy': 78, 'anoth': 79, 'new': 80, 'role': 81, 'noth': 82, '10': 83, 'funni': 84, 'music': 85, 'point': 86, 'start': 87, 'set': 88, 'girl': 89, 'origin': 90, 'day': 91, 'world': 92, 'everi': 93, 'believ': 94, 'turn': 95, 'quit': 96, 'direct': 97, 'us': 98, 'thought': 99, 'fact': 100, 'minut': 101, 'horror': 102, 'kill': 103, 'action': 104, 'comedi': 105, 'pretti': 106, 'young': 107, 'wonder': 108, 'happen': 109, 'around': 110, 'got': 111, 'effect': 112, 'right': 113, 'long': 114, 'howev': 115, 'big': 116, 'line': 117, 'famili': 118, 'enough': 119, 'seri': 120, 'may': 121, 'need': 122, 'fan': 123, 'bit': 124, 'script': 125, 'beauti': 126, 'person': 127, 'becom': 128, 'without': 129, 'must': 130, 'alway': 131, 'friend': 132, 'tell': 133, 'reason': 134, 'saw': 135, 'last': 136, 'final': 137, 'kid': 138, 'almost': 139, 'put': 140, 'least': 141, 'sure': 142, 'done': 143, 'whole': 144, 'place': 145, 'complet': 146, 'kind': 147, 'differ': 148, 'expect': 149, 'shot': 150, 'far': 151, 'mean': 152, 'anyth': 153, 'book': 154, 'laugh': 155, 'might': 156, 'name': 157, 'sinc': 158, 'begin': 159, '2': 160, 'probabl': 161, 'woman': 162, 'help': 163, 'entertain': 164, 'let': 165, 'screen': 166, 'call': 167, 'tv': 168, 'moment': 169, 'away': 170, 'read': 171, 'yet': 172, 'rather': 173, 'worst': 174, 'run': 175, 'fun': 176, 'lead': 177, 'hard': 178, 'audienc': 179, 'idea': 180, 'anyon': 181, 'episod': 182, 'american': 183, 'found': 184, 'appear': 185, 'bore': 186, 'especi': 187, 'although': 188, 'hope': 189, 'cours': 190, 'keep': 191, 'anim': 192, 'job': 193, 'goe': 194, 'move': 195, 'sens': 196, 'dvd': 197, 'version': 198, 'war': 199, 'money': 200, 'someon': 201, 'mind': 202, 'mayb': 203, 'problem': 204, 'true': 205, 'hous': 206, 'everyth': 207, 'nice': 208, 'second': 209, 'rate': 210, 'three': 211, 'night': 212, 'follow': 213, 'face': 214, 'recommend': 215, 'main': 216, 'product': 217, 'worth': 218, 'leav': 219, 'human': 220, 'special': 221, 'excel': 222, 'togeth': 223, 'wast': 224, 'sound': 225, 'everyon': 226, 'john': 227, 'hand': 228, '1': 229, 'father': 230, 'later': 231, 'eye': 232, 'said': 233, 'view': 234, 'instead': 235, 'review': 236, 'boy': 237, 'high': 238, 'hour': 239, 'miss': 240, 'classic': 241, 'talk': 242, 'wife': 243, 'understand': 244, 'left': 245, 'care': 246, 'black': 247, 'death': 248, 'open': 249, 'murder': 250, 'write': 251, 'half': 252, 'head': 253, 'rememb': 254, 'chang': 255, 'viewer': 256, 'fight': 257, 'gener': 258, 'surpris': 259, 'short': 260, 'includ': 261, 'die': 262, 'fall': 263, 'less': 264, 'els': 265, 'entir': 266, 'piec': 267, 'involv': 268, 'pictur': 269, 'simpli': 270, 'top': 271, 'power': 272, 'home': 273, 'total': 274, 'usual': 275, 'budget': 276, 'attempt': 277, 'suppos': 278, 'releas': 279, 'hollywood': 280, 'terribl': 281, 'song': 282, 'men': 283, 'possibl': 284, 'featur': 285, 'portray': 286, 'disappoint': 287, 'poor': 288, '3': 289, 'coupl': 290, 'stupid': 291, 'camera': 292, 'dead': 293, 'wrong': 294, 'low': 295, 'produc': 296, 'video': 297, 'either': 298, 'aw': 299, 'definit': 300, 'except': 301, 'rest': 302, 'given': 303, 'absolut': 304, 'women': 305, 'lack': 306, 'word': 307, 'writer': 308, 'titl': 309, 'talent': 310, 'decid': 311, 'full': 312, 'perfect': 313, 'along': 314, 'style': 315, 'close': 316, 'truli': 317, 'school': 318, 'save': 319, 'emot': 320, 'age': 321, 'sex': 322, 'next': 323, 'bring': 324, 'mr': 325, 'case': 326, 'killer': 327, 'heart': 328, 'comment': 329, 'sort': 330, 'creat': 331, 'perhap': 332, 'came': 333, 'brother': 334, 'sever': 335, 'joke': 336, 'art': 337, 'dialogu': 338, 'game': 339, 'small': 340, 'base': 341, 'flick': 342, 'written': 343, 'sequenc': 344, 'meet': 345, 'earli': 346, 'often': 347, 'other': 348, 'mother': 349, 'develop': 350, 'humor': 351, 'actress': 352, 'consid': 353, 'dark': 354, 'guess': 355, 'amaz': 356, 'unfortun': 357, 'light': 358, 'lost': 359, 'exampl': 360, 'cinema': 361, 'drama': 362, 'ye': 363, 'white': 364, 'experi': 365, 'imagin': 366, 'mention': 367, 'stop': 368, 'natur': 369, 'forc': 370, 'manag': 371, 'felt': 372, 'cut': 373, 'present': 374, 'children': 375, 'fail': 376, 'son': 377, 'qualiti': 378, 'support': 379, 'car': 380, 'ask': 381, 'hit': 382, 'side': 383, 'voic': 384, 'extrem': 385, 'impress': 386, 'wors': 387, 'evil': 388, 'went': 389, 'stand': 390, 'certainli': 391, 'basic': 392, 'oh': 393, 'overal': 394, 'favorit': 395, 'horribl': 396, 'mysteri': 397, 'number': 398, 'type': 399, 'danc': 400, 'wait': 401, 'hero': 402, 'alreadi': 403, '5': 404, 'learn': 405, 'matter': 406, '4': 407, 'michael': 408, 'genr': 409, 'fine': 410, 'despit': 411, 'throughout': 412, 'walk': 413, 'success': 414, 'histori': 415, 'question': 416, 'zombi': 417, 'town': 418, 'realiz': 419, 'relationship': 420, 'child': 421, 'past': 422, 'daughter': 423, 'late': 424, 'b': 425, 'wish': 426, 'credit': 427, 'hate': 428, 'event': 429, 'theme': 430, 'touch': 431, 'citi': 432, 'today': 433, 'sometim': 434, 'behind': 435, 'god': 436, 'twist': 437, 'sit': 438, 'stay': 439, 'annoy': 440, 'deal': 441, 'abl': 442, 'rent': 443, 'pleas': 444, 'edit': 445, 'blood': 446, 'deserv': 447, 'anyway': 448, 'comic': 449, 'appar': 450, 'soon': 451, 'gave': 452, 'etc': 453, 'level': 454, 'slow': 455, 'chanc': 456, 'score': 457, 'bodi': 458, 'brilliant': 459, 'incred': 460, 'figur': 461, 'situat': 462, 'major': 463, 'self': 464, 'stuff': 465, 'decent': 466, 'element': 467, 'dream': 468, 'return': 469, 'obvious': 470, 'continu': 471, 'order': 472, 'pace': 473, 'ridicul': 474, 'happi': 475, 'add': 476, 'highli': 477, 'group': 478, 'thank': 479, 'ladi': 480, 'novel': 481, 'pain': 482, 'speak': 483, 'career': 484, 'shoot': 485, 'strang': 486, 'heard': 487, 'sad': 488, 'husband': 489, 'polic': 490, 'import': 491, 'break': 492, 'took': 493, 'cannot': 494, 'strong': 495, 'robert': 496, 'predict': 497, 'violenc': 498, 'hilari': 499, 'recent': 500, 'countri': 501, 'known': 502, 'particularli': 503, 'pick': 504, 'documentari': 505, 'season': 506, 'critic': 507, 'jame': 508, 'compar': 509, 'obviou': 510, 'alon': 511, 'told': 512, 'state': 513, 'rock': 514, 'visual': 515, 'exist': 516, 'theater': 517, 'offer': 518, 'opinion': 519, 'gore': 520, 'hold': 521, 'crap': 522, 'result': 523, 'room': 524, 'hear': 525, 'realiti': 526, 'effort': 527, 'clich': 528, 'thriller': 529, 'caus': 530, 'sequel': 531, 'serious': 532, 'explain': 533, 'king': 534, 'local': 535, 'ago': 536, 'none': 537, 'hell': 538, 'note': 539, 'allow': 540, 'sister': 541, 'david': 542, 'simpl': 543, 'femal': 544, 'deliv': 545, 'ok': 546, 'class': 547, 'convinc': 548, 'check': 549, 'suspens': 550, 'win': 551, 'buy': 552, 'oscar': 553, 'huge': 554, 'valu': 555, 'sexual': 556, 'cool': 557, 'scari': 558, 'similar': 559, 'excit': 560, 'apart': 561, 'exactli': 562, 'provid': 563, 'shown': 564, 'avoid': 565, 'seriou': 566, 'english': 567, 'taken': 568, 'whose': 569, 'cinematographi': 570, 'shock': 571, 'polit': 572, 'spoiler': 573, 'offic': 574, 'across': 575, 'middl': 576, 'street': 577, 'pass': 578, 'messag': 579, 'charm': 580, 'somewhat': 581, 'silli': 582, 'modern': 583, 'filmmak': 584, 'confus': 585, 'form': 586, 'tale': 587, 'singl': 588, 'jack': 589, 'mostli': 590, 'william': 591, 'attent': 592, 'carri': 593, 'sing': 594, 'five': 595, 'subject': 596, 'richard': 597, 'prove': 598, 'stage': 599, 'team': 600, 'unlik': 601, 'cop': 602, 'georg': 603, 'televis': 604, 'monster': 605, 'earth': 606, 'villain': 607, 'cover': 608, 'pay': 609, 'marri': 610, 'toward': 611, 'build': 612, 'parent': 613, 'pull': 614, 'due': 615, 'fill': 616, 'respect': 617, 'dialog': 618, 'four': 619, 'remind': 620, 'futur': 621, 'weak': 622, 'typic': 623, '7': 624, 'cheap': 625, 'intellig': 626, 'atmospher': 627, 'british': 628, 'clearli': 629, '80': 630, 'non': 631, 'dog': 632, 'paul': 633, '8': 634, 'artist': 635, 'knew': 636, 'fast': 637, 'crime': 638, 'easili': 639, 'escap': 640, 'doubt': 641, 'adult': 642, 'detail': 643, 'date': 644, 'member': 645, 'romant': 646, 'fire': 647, 'gun': 648, 'drive': 649, 'straight': 650, 'beyond': 651, 'fit': 652, 'attack': 653, 'imag': 654, 'upon': 655, 'posit': 656, 'whether': 657, 'peter': 658, 'fantast': 659, 'appreci': 660, 'aspect': 661, 'captur': 662, 'ten': 663, 'plan': 664, 'discov': 665, 'remain': 666, 'near': 667, 'period': 668, 'air': 669, 'realist': 670, 'mark': 671, 'red': 672, 'dull': 673, 'adapt': 674, 'within': 675, 'lose': 676, 'spend': 677, 'color': 678, 'materi': 679, 'chase': 680, 'mari': 681, 'storylin': 682, 'forget': 683, 'bunch': 684, 'clear': 685, 'lee': 686, 'victim': 687, 'nearli': 688, 'box': 689, 'york': 690, 'inspir': 691, 'match': 692, 'mess': 693, 'finish': 694, 'standard': 695, 'easi': 696, 'truth': 697, 'suffer': 698, 'busi': 699, 'dramat': 700, 'bill': 701, 'space': 702, 'western': 703, 'e': 704, 'list': 705, 'battl': 706, 'notic': 707, 'de': 708, 'french': 709, 'ad': 710, '9': 711, 'tom': 712, 'larg': 713, 'among': 714, 'eventu': 715, 'accept': 716, 'train': 717, 'agre': 718, 'soundtrack': 719, 'spirit': 720, 'third': 721, 'teenag': 722, 'adventur': 723, 'soldier': 724, 'drug': 725, 'famou': 726, 'sorri': 727, 'suggest': 728, 'normal': 729, 'cri': 730, 'babi': 731, 'troubl': 732, 'ultim': 733, 'contain': 734, 'certain': 735, 'cultur': 736, 'romanc': 737, 'rare': 738, 'lame': 739, 'somehow': 740, 'mix': 741, 'disney': 742, 'gone': 743, 'cartoon': 744, 'student': 745, 'reveal': 746, 'fear': 747, 'kept': 748, 'suck': 749, 'attract': 750, 'appeal': 751, 'premis': 752, 'greatest': 753, 'secret': 754, 'design': 755, 'shame': 756, 'throw': 757, 'copi': 758, 'scare': 759, 'wit': 760, 'admit': 761, 'america': 762, 'brought': 763, 'particular': 764, 'relat': 765, 'screenplay': 766, 'whatev': 767, 'pure': 768, '70': 769, 'harri': 770, 'averag': 771, 'master': 772, 'describ': 773, 'treat': 774, 'male': 775, '20': 776, 'fantasi': 777, 'issu': 778, 'warn': 779, 'inde': 780, 'forward': 781, 'background': 782, 'free': 783, 'project': 784, 'memor': 785, 'japanes': 786, 'poorli': 787, 'award': 788, 'locat': 789, 'potenti': 790, 'amus': 791, 'struggl': 792, 'weird': 793, 'magic': 794, 'societi': 795, 'okay': 796, 'imdb': 797, 'accent': 798, 'doctor': 799, 'hot': 800, 'water': 801, 'express': 802, 'dr': 803, '30': 804, 'alien': 805, 'odd': 806, 'choic': 807, 'crazi': 808, 'studio': 809, 'fiction': 810, 'becam': 811, 'control': 812, 'masterpiec': 813, 'fli': 814, 'difficult': 815, 'joe': 816, 'scream': 817, 'costum': 818, 'lover': 819, 'refer': 820, 'uniqu': 821, 'remak': 822, 'girlfriend': 823, 'vampir': 824, 'prison': 825, 'execut': 826, 'wear': 827, 'jump': 828, 'wood': 829, 'unless': 830, 'creepi': 831, 'cheesi': 832, 'superb': 833, 'otherwis': 834, 'parti': 835, 'roll': 836, 'ghost': 837, 'mad': 838, 'public': 839, 'depict': 840, 'moral': 841, 'earlier': 842, 'jane': 843, 'week': 844, 'badli': 845, 'fi': 846, 'dumb': 847, 'flaw': 848, 'grow': 849, 'sci': 850, 'deep': 851, 'maker': 852, 'cat': 853, 'footag': 854, 'older': 855, 'connect': 856, 'bother': 857, 'plenti': 858, 'outsid': 859, 'stick': 860, 'gay': 861, 'catch': 862, 'co': 863, 'plu': 864, 'popular': 865, 'equal': 866, 'social': 867, 'quickli': 868, 'disturb': 869, 'perfectli': 870, 'dress': 871, '90': 872, 'era': 873, 'mistak': 874, 'lie': 875, 'previou': 876, 'ride': 877, 'combin': 878, 'band': 879, 'concept': 880, 'surviv': 881, 'rich': 882, 'answer': 883, 'front': 884, 'sweet': 885, 'christma': 886, 'insid': 887, 'concern': 888, 'eat': 889, 'bare': 890, 'beat': 891, 'listen': 892, 'ben': 893, 'c': 894, 'serv': 895, 'term': 896, 'la': 897, 'german': 898, 'meant': 899, 'hardli': 900, 'stereotyp': 901, 'innoc': 902, 'law': 903, 'desper': 904, 'promis': 905, 'memori': 906, 'intent': 907, 'cute': 908, 'inform': 909, 'variou': 910, 'steal': 911, 'brain': 912, 'post': 913, 'tone': 914, 'island': 915, 'amount': 916, 'compani': 917, 'nuditi': 918, 'track': 919, 'claim': 920, 'store': 921, 'flat': 922, '50': 923, 'hair': 924, 'univers': 925, 'land': 926, 'fairli': 927, 'scott': 928, 'kick': 929, 'danger': 930, 'player': 931, 'plain': 932, 'step': 933, 'crew': 934, 'toni': 935, 'share': 936, 'tast': 937, 'centuri': 938, 'engag': 939, 'achiev': 940, 'cold': 941, 'travel': 942, 'record': 943, 'rip': 944, 'suit': 945, 'manner': 946, 'sadli': 947, 'wrote': 948, 'tension': 949, 'spot': 950, 'intens': 951, 'fascin': 952, 'familiar': 953, 'remark': 954, 'burn': 955, 'depth': 956, 'histor': 957, 'destroy': 958, 'sleep': 959, 'purpos': 960, 'languag': 961, 'ruin': 962, 'ignor': 963, 'delight': 964, 'unbeliev': 965, 'italian': 966, 'collect': 967, 'abil': 968, 'soul': 969, 'detect': 970, 'clever': 971, 'violent': 972, 'rape': 973, 'reach': 974, 'door': 975, 'scienc': 976, 'trash': 977, 'liter': 978, 'commun': 979, 'caught': 980, 'reveng': 981, 'creatur': 982, 'approach': 983, 'trip': 984, 'intrigu': 985, 'fashion': 986, 'paint': 987, 'introduc': 988, 'skill': 989, 'complex': 990, 'channel': 991, 'camp': 992, 'christian': 993, 'hole': 994, 'extra': 995, 'ann': 996, 'limit': 997, 'mental': 998, 'immedi': 999, '6': 1000, 'million': 1001, 'mere': 1002, 'slightli': 1003, 'comput': 1004, 'slasher': 1005, 'conclus': 1006, 'suddenli': 1007, 'imposs': 1008, 'crimin': 1009, 'teen': 1010, 'neither': 1011, 'spent': 1012, 'nation': 1013, 'physic': 1014, 'respons': 1015, 'planet': 1016, 'fake': 1017, 'receiv': 1018, 'sick': 1019, 'blue': 1020, 'bizarr': 1021, 'embarrass': 1022, 'indian': 1023, '15': 1024, 'ring': 1025, 'pop': 1026, 'drop': 1027, 'drag': 1028, 'haunt': 1029, 'pointless': 1030, 'suspect': 1031, 'search': 1032, 'edg': 1033, 'handl': 1034, 'common': 1035, 'biggest': 1036, 'faith': 1037, 'hurt': 1038, 'arriv': 1039, 'technic': 1040, 'angel': 1041, 'genuin': 1042, 'dad': 1043, 'solid': 1044, 'f': 1045, 'awesom': 1046, 'focu': 1047, 'van': 1048, 'colleg': 1049, 'former': 1050, 'count': 1051, 'heavi': 1052, 'tear': 1053, 'wall': 1054, 'rais': 1055, 'younger': 1056, 'visit': 1057, 'laughabl': 1058, 'fair': 1059, 'excus': 1060, 'sign': 1061, 'cult': 1062, 'motion': 1063, 'key': 1064, 'tough': 1065, 'super': 1066, 'desir': 1067, 'stun': 1068, 'addit': 1069, 'exploit': 1070, 'cloth': 1071, 'smith': 1072, 'tortur': 1073, 'race': 1074, 'davi': 1075, 'author': 1076, 'cross': 1077, 'jim': 1078, 'compel': 1079, 'minor': 1080, 'consist': 1081, 'focus': 1082, 'pathet': 1083, 'chemistri': 1084, 'commit': 1085, 'park': 1086, 'obsess': 1087, 'frank': 1088, 'tradit': 1089, 'grade': 1090, 'asid': 1091, '60': 1092, 'brutal': 1093, 'somewher': 1094, 'steve': 1095, 'rule': 1096, 'opportun': 1097, 'explor': 1098, 'u': 1099, 'depress': 1100, 'grant': 1101, 'honest': 1102, 'besid': 1103, 'anti': 1104, 'dub': 1105, 'trailer': 1106, 'intend': 1107, 'bar': 1108, 'west': 1109, 'longer': 1110, 'regard': 1111, 'scientist': 1112, 'judg': 1113, 'decad': 1114, 'silent': 1115, 'creativ': 1116, 'armi': 1117, 'wild': 1118, 'south': 1119, 'stewart': 1120, 'g': 1121, 'draw': 1122, 'road': 1123, 'govern': 1124, 'ex': 1125, 'boss': 1126, 'practic': 1127, 'motiv': 1128, 'surprisingli': 1129, 'club': 1130, 'gang': 1131, 'festiv': 1132, 'redeem': 1133, 'green': 1134, 'page': 1135, 'london': 1136, 'idiot': 1137, 'aliv': 1138, 'display': 1139, 'militari': 1140, 'machin': 1141, 'repeat': 1142, 'thrill': 1143, '100': 1144, 'nobodi': 1145, 'folk': 1146, 'yeah': 1147, '40': 1148, 'journey': 1149, 'garbag': 1150, 'tire': 1151, 'smile': 1152, 'ground': 1153, 'bought': 1154, 'mood': 1155, 'cost': 1156, 'sam': 1157, 'stone': 1158, 'noir': 1159, 'mouth': 1160, 'terrif': 1161, 'agent': 1162, 'requir': 1163, 'utterli': 1164, 'sexi': 1165, 'honestli': 1166, 'area': 1167, 'geniu': 1168, 'report': 1169, 'humour': 1170, 'investig': 1171, 'enter': 1172, 'glad': 1173, 'serial': 1174, 'narr': 1175, 'occasion': 1176, 'passion': 1177, 'climax': 1178, 'marriag': 1179, 'studi': 1180, 'industri': 1181, 'ship': 1182, 'nowher': 1183, 'center': 1184, 'charli': 1185, 'demon': 1186, 'loos': 1187, 'hors': 1188, 'bear': 1189, 'hang': 1190, 'wow': 1191, 'graphic': 1192, 'admir': 1193, 'giant': 1194, 'send': 1195, 'loud': 1196, 'damn': 1197, 'subtl': 1198, 'profession': 1199, 'rel': 1200, 'nake': 1201, 'blow': 1202, 'bottom': 1203, 'insult': 1204, 'batman': 1205, 'doubl': 1206, 'boyfriend': 1207, 'kelli': 1208, 'r': 1209, 'initi': 1210, 'frame': 1211, 'opera': 1212, 'gem': 1213, 'drawn': 1214, 'challeng': 1215, 'church': 1216, 'affect': 1217, 'cinemat': 1218, 'j': 1219, 'fulli': 1220, 'evid': 1221, 'nightmar': 1222, 'l': 1223, 'seek': 1224, 'arm': 1225, 'conflict': 1226, 'essenti': 1227, 'grace': 1228, 'wind': 1229, 'christoph': 1230, 'henri': 1231, 'witch': 1232, 'narrat': 1233, 'assum': 1234, 'push': 1235, 'hunt': 1236, 'wise': 1237, 'chri': 1238, 'nomin': 1239, 'repres': 1240, 'month': 1241, 'avail': 1242, 'hide': 1243, 'sceneri': 1244, 'affair': 1245, 'smart': 1246, 'thu': 1247, 'bond': 1248, 'justic': 1249, 'flashback': 1250, 'outstand': 1251, 'interview': 1252, 'presenc': 1253, 'constantli': 1254, 'satisfi': 1255, 'central': 1256, 'bed': 1257, 'content': 1258, 'iron': 1259, 'sell': 1260, 'gag': 1261, 'everybodi': 1262, 'slowli': 1263, 'hotel': 1264, 'hire': 1265, 'system': 1266, 'charl': 1267, 'adam': 1268, 'thrown': 1269, 'hey': 1270, 'individu': 1271, 'allen': 1272, 'mediocr': 1273, 'jone': 1274, 'lesson': 1275, 'ray': 1276, 'billi': 1277, 'cameo': 1278, 'photographi': 1279, 'pari': 1280, 'fellow': 1281, 'strike': 1282, 'brief': 1283, 'absurd': 1284, 'independ': 1285, 'rise': 1286, 'neg': 1287, 'impact': 1288, 'phone': 1289, 'ill': 1290, 'born': 1291, 'model': 1292, 'spoil': 1293, 'angl': 1294, 'fresh': 1295, 'abus': 1296, 'likabl': 1297, 'hill': 1298, 'discuss': 1299, 'sight': 1300, 'ahead': 1301, 'photograph': 1302, 'sent': 1303, 'logic': 1304, 'shine': 1305, 'blame': 1306, 'occur': 1307, 'bruce': 1308, 'mainli': 1309, 'skip': 1310, 'commerci': 1311, 'forev': 1312, 'segment': 1313, 'surround': 1314, 'teacher': 1315, 'held': 1316, 'zero': 1317, 'blond': 1318, 'satir': 1319, 'trap': 1320, 'summer': 1321, 'resembl': 1322, 'fool': 1323, 'six': 1324, 'ball': 1325, 'queen': 1326, 'tragedi': 1327, 'sub': 1328, 'twice': 1329, 'reaction': 1330, 'pack': 1331, 'bomb': 1332, 'hospit': 1333, 'will': 1334, 'protagonist': 1335, 'sport': 1336, 'mile': 1337, 'trust': 1338, 'jerri': 1339, 'vote': 1340, 'drink': 1341, 'mom': 1342, 'encount': 1343, 'plane': 1344, 'al': 1345, 'current': 1346, 'program': 1347, 'station': 1348, 'martin': 1349, 'choos': 1350, 'celebr': 1351, 'join': 1352, 'lord': 1353, 'favourit': 1354, 'field': 1355, 'round': 1356, 'tragic': 1357, 'robot': 1358, 'jean': 1359, 'vision': 1360, 'arthur': 1361, 'tie': 1362, 'fortun': 1363, 'roger': 1364, 'random': 1365, 'intern': 1366, 'dread': 1367, 'psycholog': 1368, 'nonsens': 1369, 'improv': 1370, 'epic': 1371, 'prefer': 1372, 'highlight': 1373, 'pleasur': 1374, 'formula': 1375, 'legend': 1376, 'dollar': 1377, 'tape': 1378, '11': 1379, 'thin': 1380, 'gorgeou': 1381, 'fox': 1382, 'object': 1383, 'porn': 1384, 'wide': 1385, 'buddi': 1386, 'influenc': 1387, 'ugli': 1388, 'prepar': 1389, 'ii': 1390, 'nasti': 1391, 'warm': 1392, 'progress': 1393, 'reflect': 1394, 'supposedli': 1395, 'youth': 1396, 'worthi': 1397, 'length': 1398, 'latter': 1399, 'unusu': 1400, 'crash': 1401, 'childhood': 1402, 'seven': 1403, 'shop': 1404, 'superior': 1405, 'remot': 1406, 'theatr': 1407, 'paid': 1408, 'disgust': 1409, 'funniest': 1410, 'pilot': 1411, 'fell': 1412, 'trick': 1413, 'convers': 1414, 'castl': 1415, 'rob': 1416, 'establish': 1417, 'gangster': 1418, 'disast': 1419, 'disappear': 1420, 'suicid': 1421, 'heaven': 1422, 'ident': 1423, 'mine': 1424, 'decis': 1425, 'heroin': 1426, 'singer': 1427, 'forgotten': 1428, 'tend': 1429, 'mask': 1430, 'partner': 1431, 'brian': 1432, 'alan': 1433, 'recogn': 1434, 'desert': 1435, 'sky': 1436, 'stuck': 1437, 'thoroughli': 1438, 'ms': 1439, 'p': 1440, 'replac': 1441, 'accur': 1442, 'market': 1443, 'andi': 1444, 'danni': 1445, 'clue': 1446, 'eddi': 1447, 'commentari': 1448, 'seemingli': 1449, 'uncl': 1450, 'jackson': 1451, 'devil': 1452, 'that': 1453, 'refus': 1454, 'therefor': 1455, 'pair': 1456, 'fate': 1457, 'ed': 1458, 'unit': 1459, 'river': 1460, 'fault': 1461, 'accid': 1462, 'tune': 1463, 'afraid': 1464, 'russian': 1465, 'clean': 1466, 'hidden': 1467, 'stephen': 1468, 'test': 1469, 'irrit': 1470, 'captain': 1471, 'readi': 1472, 'instanc': 1473, 'quick': 1474, 'convey': 1475, 'european': 1476, 'insan': 1477, 'daniel': 1478, 'frustrat': 1479, '1950': 1480, 'rescu': 1481, 'wed': 1482, 'food': 1483, 'chines': 1484, 'lock': 1485, 'dirti': 1486, 'angri': 1487, 'joy': 1488, 'steven': 1489, 'price': 1490, 'cage': 1491, 'bland': 1492, 'anymor': 1493, 'rang': 1494, 'wooden': 1495, 'jason': 1496, 'rush': 1497, 'news': 1498, 'n': 1499, '12': 1500, 'twenti': 1501, 'board': 1502, 'worri': 1503, 'led': 1504, 'martial': 1505, 'cgi': 1506, 'symbol': 1507, 'transform': 1508, 'hunter': 1509, 'piti': 1510, 'invent': 1511, 'johnni': 1512, 'sentiment': 1513, 'x': 1514, 'onto': 1515, 'process': 1516, 'explan': 1517, 'attitud': 1518, 'owner': 1519, 'awar': 1520, 'aim': 1521, 'floor': 1522, 'favor': 1523, 'target': 1524, 'necessari': 1525, 'energi': 1526, 'opposit': 1527, 'religi': 1528, 'window': 1529, 'blind': 1530, 'chick': 1531, 'insight': 1532, 'movement': 1533, 'deepli': 1534, 'possess': 1535, 'comparison': 1536, 'research': 1537, 'mountain': 1538, 'grand': 1539, 'rain': 1540, 'whatsoev': 1541, 'comed': 1542, 'mid': 1543, 'began': 1544, 'bank': 1545, 'shadow': 1546, 'princ': 1547, 'parodi': 1548, 'credibl': 1549, 'friendship': 1550, 'weapon': 1551, 'pre': 1552, 'taylor': 1553, 'dougla': 1554, 'flesh': 1555, 'teach': 1556, 'hint': 1557, 'terror': 1558, 'bloodi': 1559, 'protect': 1560, 'marvel': 1561, 'drunk': 1562, 'superman': 1563, 'anybodi': 1564, 'accord': 1565, 'load': 1566, 'watchabl': 1567, 'leader': 1568, 'freddi': 1569, 'brown': 1570, 'appropri': 1571, 'jeff': 1572, 'seat': 1573, 'hitler': 1574, 'tim': 1575, 'unknown': 1576, 'charg': 1577, 'keaton': 1578, 'knock': 1579, 'villag': 1580, 'empti': 1581, 'unnecessari': 1582, 'enemi': 1583, 'england': 1584, 'media': 1585, 'craft': 1586, 'strength': 1587, 'wave': 1588, 'buck': 1589, 'perspect': 1590, 'dare': 1591, 'utter': 1592, 'correct': 1593, 'kiss': 1594, 'contrast': 1595, 'ford': 1596, 'nativ': 1597, 'distract': 1598, 'speed': 1599, 'soap': 1600, 'knowledg': 1601, 'magnific': 1602, 'nazi': 1603, 'chill': 1604, 'anywher': 1605, 'fred': 1606, 'breath': 1607, 'mission': 1608, '1980': 1609, 'ice': 1610, 'crowd': 1611, 'jr': 1612, 'joan': 1613, 'moon': 1614, 'frighten': 1615, 'kate': 1616, 'soft': 1617, '000': 1618, 'dan': 1619, 'hundr': 1620, 'nick': 1621, 'dick': 1622, 'radio': 1623, 'dozen': 1624, 'somebodi': 1625, 'simon': 1626, 'thousand': 1627, 'academi': 1628, 'loss': 1629, 'shakespear': 1630, 'andrew': 1631, 'sum': 1632, 'quot': 1633, 'account': 1634, 'vehicl': 1635, 'root': 1636, 'leg': 1637, '1970': 1638, 'convent': 1639, 'behavior': 1640, 'regular': 1641, 'gold': 1642, 'demand': 1643, 'compet': 1644, 'worker': 1645, 'pretenti': 1646, 'stretch': 1647, 'privat': 1648, 'candi': 1649, 'explos': 1650, 'notabl': 1651, 'interpret': 1652, 'lynch': 1653, 'japan': 1654, 'constant': 1655, 'tarzan': 1656, 'debut': 1657, 'translat': 1658, 'spi': 1659, 'sea': 1660, 'prais': 1661, 'revolv': 1662, 'sat': 1663, 'quiet': 1664, 'ass': 1665, 'failur': 1666, 'franc': 1667, 'technolog': 1668, 'threaten': 1669, 'jesu': 1670, 'higher': 1671, 'met': 1672, 'punch': 1673, 'kevin': 1674, 'aid': 1675, 'toy': 1676, 'abandon': 1677, 'vh': 1678, 'interact': 1679, 'mike': 1680, 'command': 1681, 'separ': 1682, 'confront': 1683, 'bet': 1684, 'gotten': 1685, 'recal': 1686, 'site': 1687, 'belong': 1688, 'servic': 1689, 'techniqu': 1690, 'stunt': 1691, 'foot': 1692, 'bug': 1693, 'cabl': 1694, 'freak': 1695, 'bright': 1696, 'african': 1697, 'capabl': 1698, 'jimmi': 1699, 'fu': 1700, 'stock': 1701, 'presid': 1702, 'boat': 1703, 'succeed': 1704, 'fat': 1705, 'clark': 1706, 'spanish': 1707, 'gene': 1708, 'structur': 1709, 'paper': 1710, 'kidnap': 1711, 'factor': 1712, 'belief': 1713, 'whilst': 1714, 'complic': 1715, 'tree': 1716, 'bob': 1717, 'realis': 1718, 'educ': 1719, 'attend': 1720, 'witti': 1721, 'realism': 1722, 'broken': 1723, 'santa': 1724, 'finest': 1725, 'assist': 1726, 'determin': 1727, 'depart': 1728, 'v': 1729, 'up': 1730, 'observ': 1731, 'smoke': 1732, 'domin': 1733, 'fame': 1734, 'lewi': 1735, 'routin': 1736, 'oper': 1737, 'rubbish': 1738, 'hat': 1739, 'hook': 1740, 'kinda': 1741, 'morgan': 1742, 'safe': 1743, 'lone': 1744, 'advanc': 1745, 'foreign': 1746, 'numer': 1747, 'rank': 1748, 'rose': 1749, 'shallow': 1750, 'civil': 1751, 'vs': 1752, 'werewolf': 1753, 'shape': 1754, 'washington': 1755, 'gari': 1756, 'morn': 1757, 'accomplish': 1758, 'winner': 1759, 'ordinari': 1760, 'kong': 1761, 'virtual': 1762, 'grab': 1763, 'peac': 1764, 'whenev': 1765, 'luck': 1766, 'h': 1767, 'offens': 1768, 'complain': 1769, 'contriv': 1770, 'patient': 1771, 'activ': 1772, 'welcom': 1773, 'bigger': 1774, 'unfunni': 1775, 'dimension': 1776, 'pretend': 1777, 'trek': 1778, 'con': 1779, 'flash': 1780, 'wake': 1781, 'cain': 1782, 'dri': 1783, 'lesbian': 1784, 'eric': 1785, 'code': 1786, 'corrupt': 1787, 'albert': 1788, 'statu': 1789, 'guard': 1790, 'dancer': 1791, 'manipul': 1792, 'signific': 1793, 'context': 1794, 'sourc': 1795, 'awkward': 1796, 'speech': 1797, 'gain': 1798, 'clip': 1799, '13': 1800, 'psycho': 1801, 'sean': 1802, 'corni': 1803, 'anthoni': 1804, 'theatric': 1805, 'priest': 1806, 'w': 1807, 'reli': 1808, 'advic': 1809, 'religion': 1810, 'curiou': 1811, 'flow': 1812, 'addict': 1813, 'asian': 1814, 'jennif': 1815, 'specif': 1816, 'secur': 1817, 'skin': 1818, 'howard': 1819, 'comfort': 1820, 'organ': 1821, 'core': 1822, 'golden': 1823, 'luke': 1824, 'promot': 1825, 'cash': 1826, 'lucki': 1827, 'cheat': 1828, 'lower': 1829, 'dislik': 1830, 'associ': 1831, 'devic': 1832, 'degre': 1833, 'contribut': 1834, 'spell': 1835, 'frequent': 1836, 'frankli': 1837, 'wing': 1838, 'regret': 1839, 'balanc': 1840, 'sake': 1841, 'forgiv': 1842, 'print': 1843, 'lake': 1844, 'thoma': 1845, 'betti': 1846, 'mass': 1847, 'unexpect': 1848, 'gordon': 1849, 'crack': 1850, 'amateur': 1851, 'grown': 1852, 'categori': 1853, 'construct': 1854, 'invit': 1855, 'unfold': 1856, 'depend': 1857, 'anna': 1858, 'condit': 1859, 'walter': 1860, 'honor': 1861, 'intellectu': 1862, 'grew': 1863, 'matur': 1864, 'spectacular': 1865, 'veteran': 1866, 'mirror': 1867, 'sole': 1868, 'sudden': 1869, 'gift': 1870, 'demonstr': 1871, 'experienc': 1872, 'freedom': 1873, 'liner': 1874, 'card': 1875, 'robin': 1876, 'grip': 1877, 'overli': 1878, 'meanwhil': 1879, 'sheriff': 1880, 'theori': 1881, 'drew': 1882, 'brilliantli': 1883, 'circumst': 1884, 'crappi': 1885, 'colour': 1886, 'section': 1887, 'oliv': 1888, 'subtitl': 1889, 'unabl': 1890, 'cook': 1891, 'parker': 1892, 'path': 1893, 'altern': 1894, 'laughter': 1895, 'matt': 1896, 'sheer': 1897, 'pile': 1898, 'relief': 1899, 'lawyer': 1900, 'hall': 1901, 'defin': 1902, 'treatment': 1903, 'wander': 1904, 'sinatra': 1905, 'accident': 1906, 'captiv': 1907, 'dragon': 1908, 'hank': 1909, 'halloween': 1910, 'moor': 1911, 'gratuit': 1912, 'cowboy': 1913, 'wayn': 1914, 'broadway': 1915, 'wound': 1916, 'kung': 1917, 'barbara': 1918, 'unintent': 1919, 'k': 1920, 'jacki': 1921, 'spoof': 1922, 'statement': 1923, 'surreal': 1924, 'winter': 1925, 'canadian': 1926, 'gonna': 1927, 'fish': 1928, 'compos': 1929, 'fare': 1930, 'treasur': 1931, 'cheer': 1932, 'woodi': 1933, 'unrealist': 1934, 'sensit': 1935, 'victor': 1936, 'emerg': 1937, 'driven': 1938, 'ran': 1939, 'neighbor': 1940, 'sympathet': 1941, 'topic': 1942, 'expos': 1943, 'glass': 1944, 'menac': 1945, 'authent': 1946, 'overlook': 1947, 'gross': 1948, 'michel': 1949, 'ancient': 1950, 'chief': 1951, 'handsom': 1952, 'cinderella': 1953, 'network': 1954, 'feet': 1955, 'pleasant': 1956, 'stranger': 1957, 'built': 1958, 'comedian': 1959, 'nevertheless': 1960, 'contemporari': 1961, 'russel': 1962, 'miser': 1963, 'consider': 1964, 'blockbust': 1965, 'endless': 1966, 'gori': 1967, 'underr': 1968, 'earn': 1969, 'letter': 1970, 'solv': 1971, 'switch': 1972, 'brook': 1973, 'joseph': 1974, 'bullet': 1975, 'convict': 1976, 'edward': 1977, 'virgin': 1978, 'victoria': 1979, 'scale': 1980, 'scenario': 1981, '0': 1982, 'chosen': 1983, 'cynic': 1984, 'alex': 1985, 'gut': 1986, 'com': 1987, 'curs': 1988, 'sword': 1989, 'outrag': 1990, 'proper': 1991, 'monkey': 1992, 'wrap': 1993, 'driver': 1994, 'uk': 1995, 'screenwrit': 1996, 'substanc': 1997, 'juli': 1998, 'par': 1999, 'bird': 2000, 'court': 2001, 'indic': 2002, 'remov': 2003, 'grave': 2004, 'inevit': 2005, 'naiv': 2006, 'roy': 2007, 'loser': 2008, 'consequ': 2009, 'advertis': 2010, 'rental': 2011, 'nanci': 2012, 'le': 2013, 'slap': 2014, 'bridg': 2015, 'fatal': 2016, 'invis': 2017, 'brave': 2018, 'germani': 2019, 'ador': 2020, 'provok': 2021, 'footbal': 2022, 'anger': 2023, 'loui': 2024, 'anderson': 2025, 'alcohol': 2026, 'chan': 2027, 'professor': 2028, 'willi': 2029, 'stumbl': 2030, 'ryan': 2031, 'assassin': 2032, 'sharp': 2033, '1930': 2034, 'patrick': 2035, 'bat': 2036, 'australian': 2037, 'strongli': 2038, 'trilog': 2039, 'saturday': 2040, 'deni': 2041, 'amateurish': 2042, 'lousi': 2043, 'ape': 2044, 'eight': 2045, 'refresh': 2046, 'cell': 2047, 'liber': 2048, 'heck': 2049, 'sin': 2050, 'resid': 2051, 'vagu': 2052, 'justifi': 2053, 'san': 2054, 'reput': 2055, 'terrifi': 2056, 'defeat': 2057, 'sympathi': 2058, 'creator': 2059, 'mini': 2060, 'indi': 2061, 'tabl': 2062, 'expert': 2063, 'endur': 2064, 'tediou': 2065, 'prevent': 2066, 'task': 2067, 'basebal': 2068, 'trial': 2069, 'imit': 2070, 'employ': 2071, 'che': 2072, 'rival': 2073, 'offend': 2074, 'fairi': 2075, 'dig': 2076, 'complaint': 2077, 'weekend': 2078, 'beach': 2079, 'europ': 2080, 'pitch': 2081, 'max': 2082, 'purchas': 2083, 'format': 2084, 'murphi': 2085, 'risk': 2086, 'bite': 2087, 'hype': 2088, 'nois': 2089, 'titan': 2090, 'powel': 2091, 'glimps': 2092, 'harsh': 2093, 'tini': 2094, 'reminisc': 2095, 'asleep': 2096, 'till': 2097, 'fals': 2098, 'strip': 2099, 'prime': 2100, '14': 2101, 'north': 2102, 'revel': 2103, 'descript': 2104, 'africa': 2105, 'destruct': 2106, 'texa': 2107, 'inner': 2108, 'uninterest': 2109, 'semi': 2110, 'excess': 2111, 'arrest': 2112, 'spin': 2113, 'surfac': 2114, 'sitcom': 2115, 'massiv': 2116, 'maintain': 2117, 'twin': 2118, 'argu': 2119, 'hitchcock': 2120, 'dinosaur': 2121, 'makeup': 2122, 'controversi': 2123, 'insist': 2124, 'ideal': 2125, 'melodrama': 2126, 'kim': 2127, 'stare': 2128, 'ludicr': 2129, 'expens': 2130, 'reject': 2131, 'supernatur': 2132, 'host': 2133, 'forest': 2134, 'subplot': 2135, 'nail': 2136, 'erot': 2137, 'atroci': 2138, 'press': 2139, 'ga': 2140, 'ala': 2141, 'columbo': 2142, 'dude': 2143, 'identifi': 2144, 'notch': 2145, 'cant': 2146, 'presum': 2147, 'crude': 2148, 'plagu': 2149, 'forgett': 2150, 'method': 2151, 'guest': 2152, 'closer': 2153, 'character': 2154, 'lion': 2155, 'ear': 2156, 'foster': 2157, 'landscap': 2158, 'border': 2159, 'princess': 2160, 'beast': 2161, 'birth': 2162, 'jungl': 2163, 'aunt': 2164, 'urban': 2165, 'storytel': 2166, 'bound': 2167, 'previous': 2168, 'damag': 2169, 'accus': 2170, 'pacino': 2171, 'nude': 2172, 'doll': 2173, 'emma': 2174, 'propaganda': 2175, 'jess': 2176, 'thirti': 2177, 'chose': 2178, 'guid': 2179, 'mate': 2180, 'whoever': 2181, 'pet': 2182, 'mainstream': 2183, '25': 2184, 'warrior': 2185, 'upset': 2186, 'merit': 2187, 'deadli': 2188, 'latest': 2189, 'gritti': 2190, 'friday': 2191, 'poster': 2192, 'cooper': 2193, 'size': 2194, 'exact': 2195, 'contact': 2196, 'buff': 2197, 'ton': 2198, 'sun': 2199, 'rough': 2200, 'corps': 2201, 'popul': 2202, 'citizen': 2203, 'contest': 2204, 'warner': 2205, 'settl': 2206, '1990': 2207, 'wilson': 2208, 'blend': 2209, 'alic': 2210, 'overcom': 2211, 'pitt': 2212, 'rat': 2213, 'select': 2214, 'environ': 2215, 'mgm': 2216, 'metal': 2217, 'widow': 2218, 'bu': 2219, 'revolut': 2220, 'guilti': 2221, 'link': 2222, 'ted': 2223, 'lift': 2224, 'particip': 2225, 'moron': 2226, 'matrix': 2227, 'accompani': 2228, 'corner': 2229, 'afternoon': 2230, 'johnson': 2231, 'exagger': 2232, 'prostitut': 2233, 'corpor': 2234, '1960': 2235, 'instal': 2236, 'hood': 2237, 'sincer': 2238, 'leagu': 2239, 'doom': 2240, 'friendli': 2241, 'multipl': 2242, 'clair': 2243, 'holm': 2244, 'defend': 2245, 'lugosi': 2246, 'hip': 2247, 'campi': 2248, 'sunday': 2249, 'string': 2250, 'advis': 2251, 'examin': 2252, 'aka': 2253, 'grim': 2254, 'blah': 2255, 'junk': 2256, 'irish': 2257, 'icon': 2258, 'varieti': 2259, 'shut': 2260, 'confid': 2261, 'shake': 2262, 'rachel': 2263, 'tight': 2264, 'pro': 2265, 'denni': 2266, 'mexican': 2267, 'sullivan': 2268, 'attach': 2269, 'directli': 2270, 'medic': 2271, 'goal': 2272, 'jaw': 2273, 'terrorist': 2274, 'legendari': 2275, 'breast': 2276, 'truck': 2277, 'sarah': 2278, 'prior': 2279, 'duke': 2280, 'courag': 2281, 'dean': 2282, 'vietnam': 2283, 'sentenc': 2284, 'bourn': 2285, 'yell': 2286, 'entri': 2287, 'un': 2288, 'nose': 2289, 'donald': 2290, 'hong': 2291, 'proceed': 2292, 'behav': 2293, 'split': 2294, 'forth': 2295, 'jerk': 2296, 'swim': 2297, 'borrow': 2298, 'stolen': 2299, 'gather': 2300, 'lifetim': 2301, 'concentr': 2302, 'everywher': 2303, 'buri': 2304, 'crush': 2305, 'confess': 2306, 'unconvinc': 2307, 'lip': 2308, 'turkey': 2309, 'spite': 2310, 'california': 2311, 'julia': 2312, 'deliveri': 2313, 'pan': 2314, 'flight': 2315, 'offici': 2316, 'freeman': 2317, 'downright': 2318, 'proud': 2319, 'reward': 2320, 'china': 2321, 'quest': 2322, 'hoffman': 2323, 'sink': 2324, 'betray': 2325, 'worthwhil': 2326, 'encourag': 2327, 'jon': 2328, 'fabul': 2329, 'jail': 2330, 'lazi': 2331, 'fade': 2332, 'sir': 2333, 'inept': 2334, 'notori': 2335, 'teeth': 2336, 'bag': 2337, 'shower': 2338, 'susan': 2339, 'cousin': 2340, 'bell': 2341, 'lisa': 2342, 'survivor': 2343, 'retard': 2344, 'relev': 2345, 'branagh': 2346, 'storm': 2347, 'imageri': 2348, 'stab': 2349, 'alright': 2350, 'toler': 2351, 'hugh': 2352, 'finger': 2353, 'summari': 2354, 'facial': 2355, 'mexico': 2356, 'quirki': 2357, 'bride': 2358, 'trade': 2359, 'shark': 2360, 'tremend': 2361, 'pose': 2362, 'hyster': 2363, 'blown': 2364, 'von': 2365, 'bitter': 2366, 'ha': 2367, 'scheme': 2368, 'address': 2369, 'cruel': 2370, 'larri': 2371, 'ron': 2372, 'afterward': 2373, 'bone': 2374, 'christ': 2375, 'ned': 2376, 'snake': 2377, 'tour': 2378, 'screw': 2379, 'swear': 2380, 'beg': 2381, 'thumb': 2382, 'traci': 2383, 'distinct': 2384, 'feed': 2385, 'pursu': 2386, 'raw': 2387, 'stomach': 2388, 'obscur': 2389, 'mechan': 2390, 'chair': 2391, 'occas': 2392, 'photo': 2393, 'render': 2394, 'southern': 2395, 'cabin': 2396, 'necessarili': 2397, 'resist': 2398, 'hardi': 2399, 'holiday': 2400, 'gruesom': 2401, 'heavili': 2402, 'sidney': 2403, 'argument': 2404, 'chain': 2405, 'philip': 2406, 'india': 2407, 'indulg': 2408, 'understood': 2409, 'satan': 2410, 'racist': 2411, 'pregnant': 2412, 'tongu': 2413, 'fourth': 2414, 'lay': 2415, 'forgot': 2416, 'integr': 2417, 'obnoxi': 2418, 'midnight': 2419, 'stalk': 2420, 'outfit': 2421, 'belov': 2422, 'slapstick': 2423, 'inhabit': 2424, '17': 2425, 'carol': 2426, 'restor': 2427, 'garden': 2428, 'ticket': 2429, 'deeper': 2430, 'magazin': 2431, 'brad': 2432, 'lincoln': 2433, 'incid': 2434, 'shoe': 2435, 'devot': 2436, 'disbelief': 2437, 'sandler': 2438, 'guarante': 2439, 'anticip': 2440, 'lili': 2441, 'underground': 2442, 'benefit': 2443, 'elizabeth': 2444, 'divorc': 2445, 'maria': 2446, 'capit': 2447, 'bbc': 2448, 'amazingli': 2449, 'creation': 2450, 'explod': 2451, 'mildli': 2452, 'princip': 2453, 'slave': 2454, 'cring': 2455, 'greater': 2456, 'extraordinari': 2457, 'halfway': 2458, 'lesli': 2459, 'introduct': 2460, 'funnier': 2461, 'wreck': 2462, 'punish': 2463, 'overwhelm': 2464, 'extent': 2465, 'tap': 2466, 'advantag': 2467, 'text': 2468, 'enhanc': 2469, 'transfer': 2470, 'error': 2471, 'dynam': 2472, 'horrif': 2473, 'lane': 2474, 'preview': 2475, 'east': 2476, 'jessica': 2477, 'deliber': 2478, 'lo': 2479, 'plant': 2480, 'miscast': 2481, 'vincent': 2482, 'appli': 2483, 'ensu': 2484, 'homosexu': 2485, 'sophist': 2486, '2000': 2487, 'miller': 2488, 'vacat': 2489, 'basi': 2490, 'measur': 2491, 'steel': 2492, 'mansion': 2493, 'bollywood': 2494, 'extend': 2495, 'spoken': 2496, 'sleazi': 2497, 'reed': 2498, 'via': 2499, 'elev': 2500, 'uncomfort': 2501, 'alter': 2502, 'mous': 2503, 'overact': 2504, 'savag': 2505, 'assign': 2506, 'fix': 2507, 'melt': 2508, 'stanley': 2509, 'conceiv': 2510, 'beer': 2511, 'breathtak': 2512, 'hippi': 2513, 'dentist': 2514, 'daili': 2515, 'cathol': 2516, 'goofi': 2517, 'blair': 2518, 'subsequ': 2519, 'nowaday': 2520, 'succe': 2521, 'inspector': 2522, 'carpent': 2523, 'oppos': 2524, 'everyday': 2525, 'sacrific': 2526, 'properli': 2527, 'burt': 2528, 'laura': 2529, 'circl': 2530, 'neck': 2531, 'block': 2532, 'massacr': 2533, 'concert': 2534, 'lesser': 2535, 'portrait': 2536, 'christi': 2537, 'seagal': 2538, 'access': 2539, 'fallen': 2540, 'grey': 2541, 'pool': 2542, 'mob': 2543, 'fay': 2544, 'isol': 2545, 'sinist': 2546, 'relax': 2547, 'react': 2548, 'usa': 2549, 'chees': 2550, 'jake': 2551, 'jewish': 2552, 'competit': 2553, 'nine': 2554, 'stink': 2555, 'chop': 2556, '2006': 2557, 'nonetheless': 2558, 'immens': 2559, 'appal': 2560, 'creep': 2561, 'spiritu': 2562, 'lyric': 2563, 'ironi': 2564, 'suitabl': 2565, 'user': 2566, 'reduc': 2567, 'sold': 2568, 'rage': 2569, 'showcas': 2570, 'adopt': 2571, 'luci': 2572, 'needless': 2573, 'navi': 2574, 'shirt': 2575, 'franchis': 2576, 'retir': 2577, 'nut': 2578, 'spring': 2579, 'asham': 2580, 'jay': 2581, 'nurs': 2582, 'bath': 2583, 'digit': 2584, 'bulli': 2585, 'uninspir': 2586, 'stanwyck': 2587, 'zone': 2588, 'per': 2589, 'illustr': 2590, 'amongst': 2591, 'upper': 2592, '1940': 2593, 'sutherland': 2594, 'laid': 2595, 'oddli': 2596, 'broadcast': 2597, '2001': 2598, 'throat': 2599, 'fulfil': 2600, 'baker': 2601, 'stylish': 2602, 'disguis': 2603, 'brando': 2604, 'aspir': 2605, 'wanna': 2606, '18': 2607, 'neighborhood': 2608, 'wwii': 2609, 'em': 2610, 'thief': 2611, 'endear': 2612, 'nobl': 2613, 'impli': 2614, 'pride': 2615, 'pound': 2616, 'cinematograph': 2617, 'distribut': 2618, 'shoulder': 2619, 'dawn': 2620, 'prop': 2621, 'tens': 2622, 'coher': 2623, 'bo': 2624, '16': 2625, 'albeit': 2626, 'dinner': 2627, 'rochest': 2628, 'diseas': 2629, 'bett': 2630, 'shift': 2631, 'knife': 2632, 'forti': 2633, 'surf': 2634, 'silenc': 2635, 'shout': 2636, 'function': 2637, 'snow': 2638, 'wash': 2639, 'contract': 2640, 'poignant': 2641, 'matthau': 2642, 'rebel': 2643, 'cannib': 2644, 'duti': 2645, 'elvira': 2646, 'derek': 2647, 'eeri': 2648, 'height': 2649, 'widmark': 2650, 'silver': 2651, 'reunion': 2652, 'henc': 2653, 'internet': 2654, 'chuck': 2655, 'cancel': 2656, 'instinct': 2657, 'horrend': 2658, 'mindless': 2659, 'proof': 2660, 'heat': 2661, 'greatli': 2662, 'glori': 2663, 'innov': 2664, 'musician': 2665, 'repetit': 2666, 'neat': 2667, 'pie': 2668, 'premier': 2669, 'alik': 2670, 'spielberg': 2671, 'etern': 2672, 'incoher': 2673, 'torn': 2674, 'mill': 2675, 'elvi': 2676, 'absorb': 2677, 'fbi': 2678, 'redempt': 2679, 'announc': 2680, 'bang': 2681, 'diamond': 2682, 'precis': 2683, 'trite': 2684, 'horrifi': 2685, 'itali': 2686, 'homag': 2687, 'crisi': 2688, 'blank': 2689, 'lovabl': 2690, 'britain': 2691, 'infam': 2692, 'wealthi': 2693, 'racism': 2694, 'nelson': 2695, 'burton': 2696, 'resolut': 2697, 'pat': 2698, 'happili': 2699, 'ensembl': 2700, 'chaplin': 2701, 'helen': 2702, 'hammer': 2703, 'parallel': 2704, 'streisand': 2705, 'wilder': 2706, 'dedic': 2707, 'flop': 2708, 'oil': 2709, 'triumph': 2710, 'broke': 2711, 'factori': 2712, 'carter': 2713, 'disagre': 2714, 'cube': 2715, 'mar': 2716, 'conclud': 2717, 'plastic': 2718, 'st': 2719, 'rocket': 2720, 'vega': 2721, 'climb': 2722, 'fighter': 2723, 'row': 2724, 'march': 2725, 'own': 2726, 'bush': 2727, 'chuckl': 2728, 'weight': 2729, 'enorm': 2730, 'spare': 2731, 'unforgett': 2732, 'dump': 2733, 'boot': 2734, 'thug': 2735, 'mst3k': 2736, 'sensibl': 2737, 'dane': 2738, 'kurt': 2739, 'lust': 2740, 'wherea': 2741, 'meaning': 2742, 'luca': 2743, 'stress': 2744, 'dear': 2745, 'caricatur': 2746, 'adequ': 2747, 'threat': 2748, 'fifti': 2749, 'engin': 2750, 'bobbi': 2751, 'difficulti': 2752, 'butt': 2753, 'rap': 2754, 'karloff': 2755, 'arnold': 2756, 'brand': 2757, 'flynn': 2758, 'secretari': 2759, 'ego': 2760, 'hamlet': 2761, 'polish': 2762, 'fest': 2763, 'ralph': 2764, 'arrog': 2765, 'swing': 2766, 'journalist': 2767, 'elabor': 2768, 'barri': 2769, 'homeless': 2770, 'arrang': 2771, 'induc': 2772, 'grate': 2773, 'unbear': 2774, 'float': 2775, 'tool': 2776, 'resort': 2777, 'fanci': 2778, 'simpson': 2779, 'conspiraci': 2780, 'puppet': 2781, 'spike': 2782, 'exercis': 2783, 'choreograph': 2784, 'boll': 2785, 'tribut': 2786, 'cruis': 2787, 'phillip': 2788, 'guilt': 2789, 'basement': 2790, 'pig': 2791, 'muppet': 2792, 'fianc': 2793, 'medium': 2794, 'puzzl': 2795, 'layer': 2796, 'slip': 2797, 'toilet': 2798, 'babe': 2799, 'stan': 2800, 'file': 2801, 'item': 2802, 'document': 2803, 'editor': 2804, '24': 2805, 'scarecrow': 2806, 'tower': 2807, 'ward': 2808, 'ham': 2809, 'korean': 2810, 'librari': 2811, 'glover': 2812, 'inexplic': 2813, 'slaughter': 2814, 'larger': 2815, 'spark': 2816, 'persona': 2817, 'philosoph': 2818, 'superfici': 2819, 'territori': 2820, 'portion': 2821, 'doc': 2822, 'catherin': 2823, 'orient': 2824, 'minim': 2825, 'transit': 2826, 'denzel': 2827, 'assur': 2828, 'dorothi': 2829, 'pg': 2830, 'wolf': 2831, 'sneak': 2832, 'walken': 2833, 'jeremi': 2834, 'owe': 2835, 'shi': 2836, 'financi': 2837, 'curti': 2838, 'ban': 2839, 'boredom': 2840, 'jet': 2841, 'hudson': 2842, 'ambigu': 2843, 'eleph': 2844, 'metaphor': 2845, 'multi': 2846, 'backdrop': 2847, 'cusack': 2848, 'profound': 2849, 'whale': 2850, 'birthday': 2851, '2005': 2852, 'stiff': 2853, 'hack': 2854, 'implaus': 2855, 'union': 2856, 'gadget': 2857, 'rave': 2858, 'notion': 2859, 'viru': 2860, 'ultra': 2861, 'elsewher': 2862, 'lloyd': 2863, 'disc': 2864, 'squar': 2865, '1st': 2866, 'distanc': 2867, 'slight': 2868, 'poison': 2869, 'eva': 2870, 'reader': 2871, 'hawk': 2872, 'afford': 2873, 'urg': 2874, 'pad': 2875, 'canada': 2876, 'deriv': 2877, 'superhero': 2878, 'newspap': 2879, 'bibl': 2880, 'eastwood': 2881, 'essenc': 2882, 'button': 2883, 'skit': 2884, 'sadist': 2885, 'health': 2886, 'charisma': 2887, 'drown': 2888, 'montag': 2889, 'cure': 2890, 'huh': 2891, 'spread': 2892, 'restaur': 2893, 'heston': 2894, 'gradual': 2895, 'companion': 2896, 'estat': 2897, 'dealt': 2898, 'peak': 2899, 'fetch': 2900, 'godfath': 2901, 'muslim': 2902, 'lab': 2903, 'invest': 2904, 'scoobi': 2905, 'maniac': 2906, 'ritter': 2907, 'countless': 2908, 'subtleti': 2909, 'gothic': 2910, 'tea': 2911, 'miik': 2912, 'cup': 2913, 'alli': 2914, 'kane': 2915, 'servant': 2916, 'iii': 2917, 'charismat': 2918, 'briefli': 2919, 'elect': 2920, 'salli': 2921, 'electr': 2922, 'heroic': 2923, 'cole': 2924, 'tender': 2925, 'wannab': 2926, 'nuanc': 2927, 'toss': 2928, 'admittedli': 2929, 'resourc': 2930, 'neil': 2931, 'grandmoth': 2932, 'bud': 2933, 'ingredi': 2934, 'reel': 2935, 'stronger': 2936, 'mild': 2937, 'poverti': 2938, 'mafia': 2939, 'stood': 2940, 'pauli': 2941, 'kubrick': 2942, 'label': 2943, 'pit': 2944, 'gate': 2945, 'shall': 2946, 'punk': 2947, 'dawson': 2948, 'reev': 2949, 'carrey': 2950, 'smooth': 2951, 'terri': 2952, 'cardboard': 2953, 'astair': 2954, 'useless': 2955, 'updat': 2956, 'smash': 2957, 'cox': 2958, 'easier': 2959, 'ian': 2960, 'fond': 2961, 'burst': 2962, 'assault': 2963, 'outcom': 2964, 'tag': 2965, 'bakshi': 2966, 'rex': 2967, 'sketch': 2968, 'resolv': 2969, '2002': 2970, 'vulner': 2971, 'melodramat': 2972, 'exchang': 2973, 'increasingli': 2974, 'samurai': 2975, 'divers': 2976, 'fist': 2977, 'vari': 2978, 'qualifi': 2979, 'coincid': 2980, 'luckili': 2981, 'brillianc': 2982, 'suspend': 2983, 'scratch': 2984, 'blast': 2985, 'be': 2986, 'conveni': 2987, 'insert': 2988, 'templ': 2989, 'tame': 2990, 'reynold': 2991, 'farm': 2992, 'seventi': 2993, 'matthew': 2994, 'walker': 2995, 'ambiti': 2996, 'soprano': 2997, 'coach': 2998, 'gotta': 2999, 'nuclear': 3000, 'strictli': 3001, 'jami': 3002, 'fisher': 3003, 'pin': 3004, 'hamilton': 3005, 'meat': 3006, 'revers': 3007, 'worthless': 3008, 'struck': 3009, 'brosnan': 3010, 'closet': 3011, 'kudo': 3012, 'cave': 3013, 'convolut': 3014, 'spooki': 3015, 'recreat': 3016, 'eccentr': 3017, 'timeless': 3018, 'monk': 3019, 'empir': 3020, 'clock': 3021, 'grasp': 3022, 'instantli': 3023, 'joey': 3024, 'butcher': 3025, 'ninja': 3026, 'discoveri': 3027, 'fifteen': 3028, 'miracl': 3029, 'partli': 3030, 'mitchel': 3031, 'bleak': 3032, 'wipe': 3033, 'inconsist': 3034, 'evok': 3035, 'pal': 3036, 'communist': 3037, 'sloppi': 3038, 'sidekick': 3039, 'declar': 3040, 'norman': 3041, 'importantli': 3042, 'clown': 3043, 'eighti': 3044, 'gray': 3045, 'seller': 3046, 'cliff': 3047, 'selfish': 3048, 'farc': 3049, 'cheek': 3050, 'flawless': 3051, 'australia': 3052, 'ho': 3053, 'lifestyl': 3054, 'superbl': 3055, 'destin': 3056, 'psychiatrist': 3057, 'websit': 3058, 'piano': 3059, '45': 3060, 'aforement': 3061, 'enthusiast': 3062, 'chew': 3063, 'stoog': 3064, 'seed': 3065, 'debat': 3066, 'slice': 3067, 'kitchen': 3068, 'regardless': 3069, 'directori': 3070, 'akshay': 3071, 'dash': 3072, 'drivel': 3073, 'soviet': 3074, 'dire': 3075, 'wrestl': 3076, 'incompet': 3077, 'pressur': 3078, 'wick': 3079, 'anni': 3080, 'bash': 3081, 'splatter': 3082, 'emili': 3083, 'abc': 3084, 'prize': 3085, 'distant': 3086, 'dave': 3087, 'artifici': 3088, 'judi': 3089, 'lou': 3090, 'pleasantli': 3091, 'flower': 3092, 'cia': 3093, 'curios': 3094, 'increas': 3095, 'cagney': 3096, 'jar': 3097, 'seduc': 3098, 'cameron': 3099, 'boil': 3100, 'glow': 3101, 'blob': 3102, 'helicopt': 3103, 'beaten': 3104, 'recov': 3105, 'suppli': 3106, 'ken': 3107, 'doo': 3108, 'chapter': 3109, 'mann': 3110, 'duo': 3111, 'turner': 3112, 'glenn': 3113, 'splendid': 3114, 'hop': 3115, 'eleg': 3116, 'goldberg': 3117, 'panic': 3118, 'favour': 3119, 'laurel': 3120, 'ellen': 3121, 'psychot': 3122, 'craig': 3123, 'francisco': 3124, 'drunken': 3125, 'craven': 3126, 'web': 3127, 'ranger': 3128, 'perri': 3129, 'combat': 3130, 'rid': 3131, 'alexand': 3132, 'min': 3133, 'slightest': 3134, 'graduat': 3135, '20th': 3136, 'shortli': 3137, 'greek': 3138, 'fx': 3139, 'gentl': 3140, 'plausibl': 3141, 'modesti': 3142, 'falk': 3143, 'flip': 3144, 'ruth': 3145, 'gandhi': 3146, 'hatr': 3147, 'wizard': 3148, 'philosophi': 3149, 'lend': 3150, 'holi': 3151, 'dracula': 3152, 'legal': 3153, 'fund': 3154, 'harm': 3155, 'manhattan': 3156, 'knight': 3157, 'jealou': 3158, 'ocean': 3159, 'preciou': 3160, 'futurist': 3161, 'we': 3162, 'tall': 3163, 'unpleas': 3164, 'felix': 3165, 'explicit': 3166, 'forbidden': 3167, 'bless': 3168, 'thread': 3169, 'childish': 3170, 'scientif': 3171, 'nod': 3172, 'tank': 3173, 'ami': 3174, 'reviv': 3175, 'mock': 3176, 'digniti': 3177, 'overdon': 3178, 'giallo': 3179, 'fever': 3180, 'unwatch': 3181, 'eve': 3182, '2004': 3183, 'margaret': 3184, 'awe': 3185, 'pirat': 3186, 'awaken': 3187, 'repeatedli': 3188, '99': 3189, 'torment': 3190, 'elderli': 3191, 'broad': 3192, 'thick': 3193, 'nerv': 3194, 'yesterday': 3195, 'mel': 3196, 'verhoeven': 3197, 'timothi': 3198, 'absenc': 3199, 'lean': 3200, 'acclaim': 3201, 'uniform': 3202, 'automat': 3203, 'publish': 3204, 'griffith': 3205, 'custom': 3206, 'bin': 3207, 'roman': 3208, 'launch': 3209, 'rivet': 3210, 'politician': 3211, 'royal': 3212, 'ah': 3213, 'stiller': 3214, 'romero': 3215, 'ambit': 3216, 'kay': 3217, 'eas': 3218, 'darker': 3219, 'warren': 3220, 'purpl': 3221, 'crook': 3222, 'pierc': 3223, 'homicid': 3224, 'termin': 3225, 'gabriel': 3226, 'phrase': 3227, 'antic': 3228, 'sunshin': 3229, 'wallac': 3230, 'pulp': 3231, 'tomato': 3232, 'transport': 3233, 'stinker': 3234, 'bathroom': 3235, 'foul': 3236, 'choreographi': 3237, 'sixti': 3238, 'album': 3239, 'saint': 3240, 'q': 3241, 'brazil': 3242, 'evolv': 3243, 'packag': 3244, 'donna': 3245, '2003': 3246, 'pray': 3247, 'revolutionari': 3248, 'juvenil': 3249, 'kenneth': 3250, 'rambo': 3251, 'ought': 3252, 'horrid': 3253, 'hollow': 3254, 'awak': 3255, 'karen': 3256, 'contrari': 3257, 'viciou': 3258, 'eyr': 3259, 'coloni': 3260, 'prom': 3261, 'li': 3262, 'marin': 3263, 'blade': 3264, 'dose': 3265, 'overr': 3266, 'twelv': 3267, 'kapoor': 3268, 'conserv': 3269, 'candid': 3270, 'boast': 3271, 'nerd': 3272, 'defi': 3273, 'stole': 3274, 'option': 3275, 'ireland': 3276, 'ramon': 3277, 'mummi': 3278, 'mildr': 3279, 'beatti': 3280, 'detract': 3281, 'flame': 3282, 'natali': 3283, 'kirk': 3284, 'astonish': 3285, 'confirm': 3286, 'jazz': 3287, 'global': 3288, 'fulci': 3289, 'trio': 3290, 'funer': 3291, 'altman': 3292, 'protest': 3293, 'collabor': 3294, 'destini': 3295, 'enterpris': 3296, 'yellow': 3297, 'tommi': 3298, 'whip': 3299, 'bull': 3300, 'mystic': 3301, 'racial': 3302, 'shade': 3303, 'bottl': 3304, 'nicholson': 3305, 'audio': 3306, 'delici': 3307, 'leap': 3308, 'spit': 3309, 'blake': 3310, 'neo': 3311, 'harder': 3312, 'adolesc': 3313, 'inherit': 3314, 'staff': 3315, 'popcorn': 3316, 'bedroom': 3317, 'altogeth': 3318, 'merci': 3319, 'enchant': 3320, 'reunit': 3321, 'swedish': 3322, 'threw': 3323, 'fonda': 3324, 'vivid': 3325, 'meaningless': 3326, 'todd': 3327, 'visibl': 3328, 'pseudo': 3329, 'moodi': 3330, 'befriend': 3331, 'kennedi': 3332, 'reserv': 3333, 'bust': 3334, 'uneven': 3335, 'wire': 3336, 'edi': 3337, 'madonna': 3338, 'roommat': 3339, 'leonard': 3340, 'respond': 3341, 'lawrenc': 3342, 'atlanti': 3343, 'fanat': 3344, 'tip': 3345, 'voight': 3346, 'synopsi': 3347, 'decor': 3348, 'exhibit': 3349, 'ruthless': 3350, 'suspici': 3351, 'lemmon': 3352, 'jew': 3353, 'await': 3354, 'crocodil': 3355, 'holli': 3356, 'unsettl': 3357, 'centr': 3358, 'ventur': 3359, 'dimens': 3360, '2007': 3361, 'clint': 3362, 'rural': 3363, 'incident': 3364, 'bargain': 3365, 'clumsi': 3366, 'carl': 3367, 'bold': 3368, 'palma': 3369, 'audit': 3370, 'abysm': 3371, 'voyag': 3372, 'chao': 3373, 'bradi': 3374, 'garner': 3375, 'cd': 3376, 'neglect': 3377, 'nearbi': 3378, '2nd': 3379, 'poetic': 3380, 'tiger': 3381, 'immigr': 3382, 'mall': 3383, 'characterist': 3384, 'echo': 3385, 'cuba': 3386, 'wealth': 3387, 'humili': 3388, 'ant': 3389, 'troop': 3390, 'trail': 3391, 'lit': 3392, 'acknowledg': 3393, 'daddi': 3394, 'elimin': 3395, 'cari': 3396, 'imperson': 3397, 'versu': 3398, 'hart': 3399, 'timon': 3400, 'pun': 3401, 'mistaken': 3402, 'domest': 3403, 'jeffrey': 3404, 'marshal': 3405, 'infect': 3406, 'collaps': 3407, 'mickey': 3408, 'saga': 3409, 'celluloid': 3410, 'repuls': 3411, 'prejudic': 3412, 'paus': 3413, 'homer': 3414, 'solo': 3415, 'milk': 3416, 'coat': 3417, 'chest': 3418, 'promin': 3419, 'assembl': 3420, 'harvey': 3421, 'leon': 3422, 'inappropri': 3423, 'coffe': 3424, 'olivi': 3425, 'ginger': 3426, 'inan': 3427, 'sore': 3428, '1996': 3429, 'undoubtedli': 3430, 'cake': 3431, 'tribe': 3432, 'equip': 3433, 'gear': 3434, 'pant': 3435, 'apolog': 3436, 'hbo': 3437, 'interrupt': 3438, 'jenni': 3439, 'colleagu': 3440, 'pot': 3441, 'consum': 3442, 'humbl': 3443, 'colonel': 3444, 'aveng': 3445, 'solut': 3446, 'embrac': 3447, 'maggi': 3448, 'airplan': 3449, 'pen': 3450, 'furthermor': 3451, 'vulgar': 3452, 'devast': 3453, 'brooklyn': 3454, 'instant': 3455, 'trace': 3456, 'institut': 3457, 'primari': 3458, 'exot': 3459, 'retain': 3460, 'florida': 3461, 'highest': 3462, 'polanski': 3463, 'rick': 3464, 'principl': 3465, '1999': 3466, '3rd': 3467, 'godzilla': 3468, 'wive': 3469, 'illog': 3470, 'dian': 3471, 'outer': 3472, 'seduct': 3473, 'disabl': 3474, 'linda': 3475, 'sale': 3476, 'strain': 3477, 'ya': 3478, 'cope': 3479, 'dutch': 3480, 'bowl': 3481, 'descend': 3482, 'poke': 3483, 'smaller': 3484, 'gender': 3485, 'yard': 3486, 'secondli': 3487, 'dud': 3488, 'inferior': 3489, 'cue': 3490, 'blatant': 3491, 'glamor': 3492, 'gloriou': 3493, 'devoid': 3494, 'lol': 3495, 'beneath': 3496, 'dive': 3497, 'scope': 3498, 'gundam': 3499, 'primarili': 3500, 'mixtur': 3501, 'hal': 3502, 'predecessor': 3503, 'rabbit': 3504, 'bubbl': 3505, 'vast': 3506, 'museum': 3507, 'myer': 3508, 'breed': 3509, 'aggress': 3510, 'april': 3511, 'shirley': 3512, 'simplist': 3513, 'alfr': 3514, 'z': 3515, 'talki': 3516, 'hideou': 3517, 'alert': 3518, 'senseless': 3519, 'invas': 3520, 'grinch': 3521, 'casual': 3522, 'countrysid': 3523, 'disjoint': 3524, 'arab': 3525, 'domino': 3526, 'pearl': 3527, 'trademark': 3528, 'streep': 3529, 'shelf': 3530, 'et': 3531, 'garbo': 3532, 'stack': 3533, 'uwe': 3534, 'maci': 3535, 'stir': 3536, 'illeg': 3537, 'mayor': 3538, 'stellar': 3539, 'unhappi': 3540, 'acid': 3541, 'slide': 3542, 'obtain': 3543, 'defens': 3544, 'sh': 3545, 'robberi': 3546, 'boom': 3547, 'loyal': 3548, 'hardcor': 3549, 'vanish': 3550, 'experiment': 3551, 'hopeless': 3552, 'applaud': 3553, 'rendit': 3554, 'robinson': 3555, 'oz': 3556, 'mail': 3557, 'khan': 3558, 'disgrac': 3559, 'amanda': 3560, 'wont': 3561, 'psychic': 3562, 'grandfath': 3563, 'blew': 3564, 'dicken': 3565, 'rifl': 3566, 'span': 3567, 'tempt': 3568, 'declin': 3569, 'berlin': 3570, 'soccer': 3571, 'fri': 3572, 'scroog': 3573, 'recruit': 3574, 'spider': 3575, 'tenant': 3576, 'topless': 3577, 'counter': 3578, 'craze': 3579, 'dismiss': 3580, 'incomprehens': 3581, 'emphasi': 3582, 'diana': 3583, 'hartley': 3584, 'sibl': 3585, 'bitch': 3586, 'porno': 3587, 'ration': 3588, 'sympath': 3589, 'revolt': 3590, 'parad': 3591, 'intim': 3592, 'shed': 3593, 'riot': 3594, 'goer': 3595, 'ethnic': 3596, 'woo': 3597, 'resurrect': 3598, 'justin': 3599, 'trashi': 3600, 'faster': 3601, 'shaw': 3602, 'niro': 3603, 'wet': 3604, 'lumet': 3605, 'hopper': 3606, 'wheel': 3607, 'gap': 3608, 'hesit': 3609, 'choru': 3610, 'rider': 3611, 'weakest': 3612, 'lena': 3613, 'mario': 3614, 'ballet': 3615, 'nephew': 3616, 'enlighten': 3617, 'eager': 3618, 'patriot': 3619, 'commend': 3620, 'andr': 3621, 'region': 3622, 'wendi': 3623, 'ensur': 3624, 'steam': 3625, 'unreal': 3626, 'dealer': 3627, 'honesti': 3628, 'partial': 3629, 'feminist': 3630, 'immort': 3631, 'biographi': 3632, 'farmer': 3633, 'slick': 3634, 'worm': 3635, 'jonathan': 3636, '00': 3637, 'charlott': 3638, 'blunt': 3639, 'hung': 3640, 'morri': 3641, 'snap': 3642, 'properti': 3643, 'wore': 3644, 'franco': 3645, 'composit': 3646, 'skull': 3647, 'prequel': 3648, 'confin': 3649, 'nostalg': 3650, 'sandra': 3651, 'sappi': 3652, 'kingdom': 3653, 'repress': 3654, 'vice': 3655, 'safeti': 3656, 'psychopath': 3657, 'victori': 3658, 'similarli': 3659, 'mutant': 3660, 'leo': 3661, 'util': 3662, 'owen': 3663, 'macarthur': 3664, 'latin': 3665, 'drain': 3666, 'exit': 3667, 'bumbl': 3668, 'montana': 3669, 'nervou': 3670, 'rambl': 3671, 'tad': 3672, 'pattern': 3673, 'bonu': 3674, 'deed': 3675, 'valuabl': 3676, 'campbel': 3677, 'cg': 3678, 'compens': 3679, 'whoopi': 3680, 'del': 3681, 'compass': 3682, 'thru': 3683, 'speci': 3684, 'recycl': 3685, 'hyde': 3686, 'bow': 3687, 'farrel': 3688, 'dalton': 3689, '1972': 3690, 'tail': 3691, 'drum': 3692, 'snl': 3693, 'repli': 3694, 'strand': 3695, 'rope': 3696, 'acquir': 3697, 'miseri': 3698, 'heartbreak': 3699, 'dust': 3700, 'kyle': 3701, 'bergman': 3702, 'emperor': 3703, 'despair': 3704, 'rocki': 3705, 'gal': 3706, 'mistress': 3707, 'carradin': 3708, 'radic': 3709, 'romp': 3710, 'olli': 3711, 'orson': 3712, 'oppress': 3713, 'contempl': 3714, 'rotten': 3715, 'pour': 3716, '35': 3717, 'percept': 3718, 'downhil': 3719, 'martian': 3720, 'airport': 3721, 'wacki': 3722, 'rapist': 3723, 'da': 3724, 'tonight': 3725, 'chess': 3726, 'gimmick': 3727, 'bleed': 3728, 'roth': 3729, 'slug': 3730, 'taught': 3731, 'tooth': 3732, 'pervert': 3733, 'dazzl': 3734, 'arguabl': 3735, 'banal': 3736, 'mislead': 3737, 'stilt': 3738, 'preach': 3739, 'unpredict': 3740, 'tackl': 3741, 'shelley': 3742, '1983': 3743, 'paltrow': 3744, 'belt': 3745, 'heal': 3746, 'programm': 3747, 'slash': 3748, 'attorney': 3749, 'arc': 3750, 'pervers': 3751, 'pursuit': 3752, 'champion': 3753, 'edgar': 3754, 'melodi': 3755, 'tiresom': 3756, 'bela': 3757, 'duval': 3758, 'chicken': 3759, 'raymond': 3760, 'poem': 3761, 'conneri': 3762, 'graham': 3763, 'marti': 3764, 'vocal': 3765, 'virginia': 3766, 'rubi': 3767, 'plight': 3768, 'maid': 3769, 'closest': 3770, 'employe': 3771, 'cleverli': 3772, 'gambl': 3773, 'sensat': 3774, 'uplift': 3775, 'mesmer': 3776, 'orang': 3777, 'vengeanc': 3778, 'franki': 3779, 'passeng': 3780, 'dixon': 3781, 'convincingli': 3782, 'whine': 3783, 'paranoia': 3784, 'volum': 3785, 'tube': 3786, 'clone': 3787, 'engross': 3788, 'sirk': 3789, 'abraham': 3790, 'quarter': 3791, '1968': 3792, 'iran': 3793, 'scottish': 3794, 'yawn': 3795, 'inject': 3796, 'giggl': 3797, 'gerard': 3798, 'amitabh': 3799, 'crystal': 3800, 'bay': 3801, 'calm': 3802, 'lundgren': 3803, 'swallow': 3804, 'climact': 3805, 'habit': 3806, 'monologu': 3807, 'mute': 3808, 'secretli': 3809, 'suffic': 3810, 'profan': 3811, 'outing': 3812, 'numb': 3813, 'pokemon': 3814, 'extens': 3815, 'chicago': 3816, 'taxi': 3817, 'backward': 3818, 'ethan': 3819, 'earl': 3820, 'junior': 3821, 'nichola': 3822, 'profess': 3823, 'linger': 3824, 'grotesqu': 3825, 'poetri': 3826, 'abort': 3827, 'bend': 3828, 'richardson': 3829, 'frankenstein': 3830, 'lowest': 3831, 'underst': 3832, 'meander': 3833, 'fed': 3834, 'austen': 3835, 'surpass': 3836, 'trend': 3837, 'septemb': 3838, 'franci': 3839, 'plod': 3840, 'im': 3841, 'expand': 3842, 'dispos': 3843, 'spock': 3844, 'greedi': 3845, 'hum': 3846, 'eugen': 3847, 'stallon': 3848, 'muddl': 3849, 'myth': 3850, 'cannon': 3851, 'mundan': 3852, 'lure': 3853, 'catchi': 3854, 'compliment': 3855, 'simplic': 3856, 'tourist': 3857, 'spoke': 3858, 'der': 3859, 'household': 3860, 'econom': 3861, 'rubber': 3862, 'literatur': 3863, 'rant': 3864, 'descent': 3865, 'sue': 3866, 'dysfunct': 3867, 'instrument': 3868, 'nostalgia': 3869, 'waitress': 3870, 'bacal': 3871, 'firstli': 3872, 'alongsid': 3873, 'equival': 3874, 'recognis': 3875, 'recognit': 3876, 'map': 3877, 'dictat': 3878, 'stale': 3879, 'omen': 3880, 'phoni': 3881, 'louis': 3882, 'irrelev': 3883, 'crucial': 3884, 'coast': 3885, 'eaten': 3886, 'hello': 3887, 'insur': 3888, 'randi': 3889, 'damon': 3890, 'duck': 3891, 'sissi': 3892, 'occupi': 3893, 'carel': 3894, 'dement': 3895, 'deaf': 3896, 'mortal': 3897, 'molli': 3898, 'furi': 3899, 'phantom': 3900, 'mankind': 3901, 'flee': 3902, 'lang': 3903, 'cent': 3904, 'june': 3905, 'loyalti': 3906, 'damm': 3907, 'likewis': 3908, 'lengthi': 3909, 'blackmail': 3910, 'freez': 3911, 'bump': 3912, 'labor': 3913, 'bike': 3914, 'distinguish': 3915, 'daisi': 3916, 'buffalo': 3917, 'antwon': 3918, 'newli': 3919, 'onlin': 3920, 'drake': 3921, 'dreari': 3922, 'grayson': 3923, 'cyborg': 3924, 'rude': 3925, 'heel': 3926, 'twilight': 3927, '1973': 3928, 'wisdom': 3929, 'rooney': 3930, 'ashley': 3931, 'reign': 3932, 'biko': 3933, 'analysi': 3934, 'nineti': 3935, 'baddi': 3936, 'barrymor': 3937, 'tunnel': 3938, 'ridden': 3939, 'worn': 3940, 'vein': 3941, 'interior': 3942, 'startl': 3943, 'sailor': 3944, 'butler': 3945, 'attribut': 3946, 'emphas': 3947, 'exposur': 3948, 'unorigin': 3949, 'chronicl': 3950, 'incorpor': 3951, 'boxer': 3952, 'inher': 3953, 'basketbal': 3954, 'approv': 3955, 'pink': 3956, 'provoc': 3957, 'prey': 3958, 'proce': 3959, 'keith': 3960, 'walsh': 3961, 'condemn': 3962, 'undeni': 3963, 'bunni': 3964, 'fleet': 3965, 'elm': 3966, 'unrel': 3967, 'nicol': 3968, 'degrad': 3969, 'predat': 3970, 'barrel': 3971, 'stalker': 3972, 'millionair': 3973, 'hypnot': 3974, 'simmon': 3975, 'er': 3976, 'mighti': 3977, 'improvis': 3978, 'drift': 3979, 'substitut': 3980, 'indiffer': 3981, 'robbin': 3982, 'belushi': 3983, 'carla': 3984, 'meg': 3985, 'meyer': 3986, 'underli': 3987, 'othello': 3988, 'julian': 3989, 'mormon': 3990, 'greed': 3991, 'enthusiasm': 3992, 'disord': 3993, 'reid': 3994, 'hay': 3995, 'alison': 3996, 'nyc': 3997, 'dolph': 3998, 'mtv': 3999, 'shove': 4000, 'watson': 4001, 'vital': 4002, 'lampoon': 4003, 'alarm': 4004, 'novak': 4005, 'errol': 4006, 'edgi': 4007, 'marion': 4008, 'roof': 4009, 'palac': 4010, 'warmth': 4011, 'priceless': 4012, 'unawar': 4013, 'firm': 4014, 'rukh': 4015, '3d': 4016, 'exquisit': 4017, 'agenda': 4018, 'campaign': 4019, 'drip': 4020, 'valentin': 4021, 'beatl': 4022, 'profit': 4023, 'championship': 4024, 'iraq': 4025, 'orlean': 4026, 'ponder': 4027, 'cassidi': 4028, 'randomli': 4029, '13th': 4030, 'preserv': 4031, 'pamela': 4032, 'distort': 4033, 'nun': 4034, 'what': 4035, 'coup': 4036, 'glanc': 4037, 'gestur': 4038, 'thompson': 4039, 'petti': 4040, 'spain': 4041, 'showdown': 4042, 'crown': 4043, 'testament': 4044, 'angela': 4045, 'sergeant': 4046, 'peril': 4047, 'session': 4048, 'eastern': 4049, 'simultan': 4050, '1933': 4051, 'minimum': 4052, 'unleash': 4053, 'israel': 4054, 'peck': 4055, 'zizek': 4056, 'han': 4057, 'stroke': 4058, 'scotland': 4059, 'rout': 4060, 'calib': 4061, 'valley': 4062, 'shootout': 4063, 'stake': 4064, 'climat': 4065, 'crow': 4066, 'gentleman': 4067, 'realm': 4068, 'cooki': 4069, 'exposit': 4070, 'contradict': 4071, 'quinn': 4072, 'perpetu': 4073, 'crawl': 4074, 'cream': 4075, 'jan': 4076, 'brenda': 4077, 'unimagin': 4078, 'regist': 4079, 'empathi': 4080, '1984': 4081, 'travesti': 4082, 'restrain': 4083, 'bro': 4084, 'miyazaki': 4085, 'din': 4086, 'kurosawa': 4087, 'reson': 4088, 'represent': 4089, 'wig': 4090, 'mon': 4091, 'fido': 4092, 'sabrina': 4093, 'buster': 4094, 'compromis': 4095, 'pole': 4096, 'shaki': 4097, 'abomin': 4098, 'wax': 4099, 'distress': 4100, 'geek': 4101, 'greg': 4102, 'traumat': 4103, 'josh': 4104, 'fuller': 4105, 'femm': 4106, 'unseen': 4107, 'painter': 4108, 'ustinov': 4109, 'stargat': 4110, 'soderbergh': 4111, 'monoton': 4112, 'passabl': 4113, 'demis': 4114, 'sucker': 4115, 'darren': 4116, 'pretens': 4117, 'absent': 4118, 'sammi': 4119, 'dana': 4120, '1987': 4121, '1997': 4122, 'baldwin': 4123, 'unsatisfi': 4124, 'cloud': 4125, 'warrant': 4126, 'delic': 4127, 'ross': 4128, 'shoddi': 4129, 'derang': 4130, 'censor': 4131, 'crawford': 4132, 'meryl': 4133, 'spacey': 4134, 'mclaglen': 4135, 'businessman': 4136, 'tacki': 4137, 'perceiv': 4138, 'deceas': 4139, 'click': 4140, 'tarantino': 4141, 'wholli': 4142, 'jewel': 4143, 'dee': 4144, 'verbal': 4145, 'fenc': 4146, 'norm': 4147, 'exclus': 4148, 'kumar': 4149, 'valid': 4150, 'unravel': 4151, 'primit': 4152, 'judgment': 4153, 'clash': 4154, 'fog': 4155, 'tech': 4156, 'correctli': 4157, 'furiou': 4158, 'austin': 4159, 'sid': 4160, 'anchor': 4161, '1993': 4162, 'accuraci': 4163, 'deniro': 4164, 'reluct': 4165, 'seal': 4166, 'expedit': 4167, 'uncov': 4168, 'nathan': 4169, 'polici': 4170, 'antonioni': 4171, 'nicola': 4172, '1995': 4173, 'malon': 4174, 'fart': 4175, 'hallucin': 4176, 'sustain': 4177, 'patienc': 4178, '2008': 4179, 'debt': 4180, '3000': 4181, 'fabric': 4182, 'wretch': 4183, 'roller': 4184, 'vanc': 4185, 'fought': 4186, 'seldom': 4187, 'murray': 4188, 'mode': 4189, 'sheet': 4190, 'ritual': 4191, 'darn': 4192, 'bake': 4193, 'crippl': 4194, 'enforc': 4195, 'clerk': 4196, 'sunni': 4197, 'temper': 4198, 'sand': 4199, 'unfair': 4200, 'joel': 4201, 'conduct': 4202, 'slam': 4203, 'pocket': 4204, 'behold': 4205, 'alec': 4206, 'logan': 4207, 'trait': 4208, 'wang': 4209, '1971': 4210, 'shanghai': 4211, 'dreck': 4212, 'tax': 4213, 'despis': 4214, 'clau': 4215, 'phil': 4216, 'sweep': 4217, 'preston': 4218, 'runner': 4219, 'robber': 4220, 'fundament': 4221, 'isabel': 4222, 'schedul': 4223, 'shell': 4224, 'conscious': 4225, 'tactic': 4226, 'legaci': 4227, 'critiqu': 4228, 'bias': 4229, 'soup': 4230, 'penni': 4231, 'scriptwrit': 4232, 'exhaust': 4233, 'canyon': 4234, 'guitar': 4235, 'grief': 4236, 'pete': 4237, 'rita': 4238, 'squad': 4239, 'outlin': 4240, 'stark': 4241, 'helpless': 4242, 'technicolor': 4243, 'preposter': 4244, 'bridget': 4245, 'divid': 4246, 'stuart': 4247, 'boyl': 4248, 'marc': 4249, 'lacklust': 4250, 'passag': 4251, 'bloom': 4252, 'kansa': 4253, 'sentinel': 4254, 'drove': 4255, 'newman': 4256, 'consciou': 4257, 'palanc': 4258, 'unexpectedli': 4259, 'flair': 4260, 'culmin': 4261, 'russia': 4262, 'rehash': 4263, 'vomit': 4264, 'cigarett': 4265, 'alicia': 4266, 'restrict': 4267, 'invad': 4268, 'propos': 4269, 'connor': 4270, 'rear': 4271, 'alley': 4272, 'agenc': 4273, 'sniper': 4274, 'implic': 4275, 'sugar': 4276, 'downey': 4277, 'delv': 4278, 'inabl': 4279, 'liberti': 4280, 'jodi': 4281, 'jacket': 4282, 'gregori': 4283, 'arrow': 4284, 'aesthet': 4285, 'sharon': 4286, 'behaviour': 4287, 'lush': 4288, 'awhil': 4289, 'wrench': 4290, 'horn': 4291, 'cap': 4292, 'asylum': 4293, 'rampag': 4294, 'rehears': 4295, 'bacon': 4296, 'feat': 4297, '1936': 4298, 'rod': 4299, 'pale': 4300, 'tripe': 4301, 'delet': 4302, 'improb': 4303, 'yeti': 4304, 'ladder': 4305, '22': 4306, 'vet': 4307, 'chainsaw': 4308, 'tendenc': 4309, 'foxx': 4310, 'karl': 4311, 'mccoy': 4312, 'kolchak': 4313, 'financ': 4314, 'shortcom': 4315, 'fright': 4316, '1988': 4317, 'hulk': 4318, 'underneath': 4319, '1978': 4320, 'paradis': 4321, 'basing': 4322, 'amazon': 4323, 'hungri': 4324, 'elit': 4325, 'wagner': 4326, 'lurk': 4327, 'newcom': 4328, 'globe': 4329, 'rhythm': 4330, 'paramount': 4331, 'coaster': 4332, '19th': 4333, '1920': 4334, 'tomorrow': 4335, 'aristocrat': 4336, 'suspicion': 4337, 'conscienc': 4338, 'scoop': 4339, 'visitor': 4340, 'tasteless': 4341, 'sung': 4342, 'prank': 4343, 'wildli': 4344, 'el': 4345, 'suffici': 4346, 'spice': 4347, 'minu': 4348, 'rumor': 4349, 'filler': 4350, 'stream': 4351, 'loneli': 4352, 'weav': 4353, 'hackney': 4354, 'thunderbird': 4355, 'secondari': 4356, 'worship': 4357, 'inmat': 4358, 'leigh': 4359, 'entranc': 4360, 'tierney': 4361, '1989': 4362, 'penn': 4363, 'lectur': 4364, 'straightforward': 4365, 'chamberlain': 4366, 'recogniz': 4367, 'en': 4368, 'teas': 4369, 'paxton': 4370, '75': 4371, 'couch': 4372, 'brit': 4373, 'literari': 4374, 'beverli': 4375, 'smell': 4376, 'grudg': 4377, 'impos': 4378, 'naughti': 4379, 'heist': 4380, 'counterpart': 4381, 'quietli': 4382, 'ingeni': 4383, 'rub': 4384, 'minist': 4385, 'curli': 4386, 'immers': 4387, 'abrupt': 4388, 'standout': 4389, 'atroc': 4390, 'posey': 4391, 'cancer': 4392, 'springer': 4393, 'choppi': 4394, '1939': 4395, 'hopkin': 4396, 'ram': 4397, 'wwe': 4398, 'bread': 4399, 'dirt': 4400, 'iv': 4401, 'chavez': 4402, 'morbid': 4403, 'bernard': 4404, 'ace': 4405, 'misguid': 4406, 'sublim': 4407, 'variat': 4408, 'entitl': 4409, 'enthral': 4410, 'esther': 4411, 'transcend': 4412, 'skeptic': 4413, '1986': 4414, 'net': 4415, 'duel': 4416, 'quaid': 4417, 'cattl': 4418, 'sassi': 4419, 'policeman': 4420, 'lindsay': 4421, 'laurenc': 4422, 'injuri': 4423, 'clan': 4424, 'watcher': 4425, 'moreov': 4426, 'convert': 4427, 'heartfelt': 4428, 'missil': 4429, 'nolan': 4430, 'nemesi': 4431, 'geni': 4432, 'ratso': 4433, 'attenborough': 4434, 'yearn': 4435, 'bye': 4436, 'puppi': 4437, 'youngest': 4438, 'artsi': 4439, 'facil': 4440, 'graini': 4441, 'buzz': 4442, 'diari': 4443, 'grin': 4444, 'uncut': 4445, 'dont': 4446, 'moder': 4447, 'cruelti': 4448, 'egg': 4449, 'setup': 4450, 'obstacl': 4451, 'characteris': 4452, 'steadi': 4453, 'poe': 4454, 'hopelessli': 4455, '1979': 4456, 'mytholog': 4457, 'kitti': 4458, 'out': 4459, 'brood': 4460, 'rosemari': 4461, 'reliabl': 4462, 'enabl': 4463, 'carlito': 4464, 'bean': 4465, 'hk': 4466, 'tyler': 4467, 'kidman': 4468, 'vader': 4469, 'unexplain': 4470, 'spiral': 4471, 'oblig': 4472, 'bewar': 4473, 'hain': 4474, 'spontan': 4475, 'narrow': 4476, 'exterior': 4477, 'despic': 4478, 'underworld': 4479, 'weather': 4480, 'athlet': 4481, 'brendan': 4482, 'baffl': 4483, 'niec': 4484, 'bounc': 4485, 'gillian': 4486, 'preming': 4487, 'acquaint': 4488, '1969': 4489, 'patricia': 4490, 'bronson': 4491, 'heap': 4492, 'clueless': 4493, 'christin': 4494, 'fuel': 4495, 'martha': 4496, 'disastr': 4497, 'hammi': 4498, 'effici': 4499, 'kline': 4500, 'sweat': 4501, 'decept': 4502, 'gina': 4503, 'suprem': 4504, 'astound': 4505, 'lester': 4506, 'fontain': 4507, 'virtu': 4508, 'loath': 4509, 'headach': 4510, 'taboo': 4511, 'goof': 4512, 'outlaw': 4513, '19': 4514, 'enlist': 4515, 'uh': 4516, 'analyz': 4517, 'loi': 4518, 'trigger': 4519, 'candl': 4520, 'shatter': 4521, 'injur': 4522, 'tick': 4523, 'mayhem': 4524, 'preachi': 4525, 'viewpoint': 4526, 'angst': 4527, 'rome': 4528, 'dilemma': 4529, 'harmless': 4530, 'insipid': 4531, 'housewif': 4532, 'circu': 4533, 'scar': 4534, 'renaiss': 4535, 'sooner': 4536, 'sleepwalk': 4537, 'biker': 4538, '73': 4539, 'dandi': 4540, 'hepburn': 4541, 'mermaid': 4542, 'camcord': 4543, 'phenomenon': 4544, 'salt': 4545, 'glorifi': 4546, 'intric': 4547, 'claustrophob': 4548, 'scorses': 4549, 'stimul': 4550, 'whore': 4551, 'amor': 4552, 'stair': 4553, 'bent': 4554, 'oldest': 4555, 'spade': 4556, 'overlong': 4557, 'foolish': 4558, 'immatur': 4559, 'hostag': 4560, 'contempt': 4561, 'fluff': 4562, 'corbett': 4563, 'zoom': 4564, 'steer': 4565, 'dish': 4566, 'hokey': 4567, 'macho': 4568, 'hooker': 4569, 'filth': 4570, 'boston': 4571, 'ebert': 4572, 'sox': 4573, 'surgeri': 4574, 'idol': 4575, 'ariel': 4576, 'redund': 4577, 'dismal': 4578, 'tripl': 4579, 'cassavet': 4580, 'gere': 4581, 'slimi': 4582, 'guin': 4583, 'shred': 4584, 'cow': 4585, 'cush': 4586, 'preced': 4587, 'obligatori': 4588, 'harold': 4589, 'nolt': 4590, 'faint': 4591, 'messi': 4592, 'joker': 4593, 'assert': 4594, 'spree': 4595, 'gabl': 4596, 'flag': 4597, 'fascist': 4598, 'frantic': 4599, 'remad': 4600, 'conquer': 4601, 'strongest': 4602, 'widescreen': 4603, 'flirt': 4604, 'cohen': 4605, 'trivia': 4606, 'perman': 4607, 'gasp': 4608, 'mutual': 4609, 'zane': 4610, 'shield': 4611, 'dwarf': 4612, 'margin': 4613, 'proport': 4614, 'spinal': 4615, 'mount': 4616, '1981': 4617, '1976': 4618, 'radiat': 4619, 'transplant': 4620, 'keen': 4621, 'down': 4622, 'alvin': 4623, 'muscl': 4624, 'schlock': 4625, 'flashi': 4626, 'beard': 4627, 'antagonist': 4628, 'astronaut': 4629, 'rhyme': 4630, 'corman': 4631, 'naschi': 4632, 'vaniti': 4633, 'info': 4634, 'discern': 4635, '28': 4636, 'sensual': 4637, 'instruct': 4638, 'inflict': 4639, 'archiv': 4640, 'boob': 4641, 'claud': 4642, 'triangl': 4643, 'divin': 4644, 'bitten': 4645, 'departur': 4646, 'deer': 4647, 'someday': 4648, 'neurot': 4649, 'hara': 4650, 'persuad': 4651, 'danish': 4652, 'ritchi': 4653, 'scandal': 4654, 'bachelor': 4655, 'carey': 4656, 'fishburn': 4657, 'barn': 4658, 'repris': 4659, 'brush': 4660, 'wield': 4661, 'raj': 4662, 'interestingli': 4663, 'strive': 4664, '1945': 4665, 'www': 4666, '95': 4667, 'resum': 4668, 'flock': 4669, 'off': 4670, 'mol': 4671, 'aborigin': 4672, 'mobil': 4673, 'proclaim': 4674, 'harrison': 4675, 'cycl': 4676, 'rot': 4677, 'carlo': 4678, 'recit': 4679, 'banter': 4680, 'axe': 4681, 'submit': 4682, 'vibrant': 4683, 'senior': 4684, 'kathryn': 4685, 'prophet': 4686, 'melissa': 4687, 'traffic': 4688, 'luka': 4689, 'hug': 4690, 'hilar': 4691, 'casino': 4692, 'colin': 4693, 'undermin': 4694, 'loretta': 4695, 'dame': 4696, 'heartwarm': 4697, 'clad': 4698, 'fragil': 4699, 'cher': 4700, 'biblic': 4701, 'ish': 4702, 'anton': 4703, 'cb': 4704, 'hapless': 4705, 'frontier': 4706, 'helm': 4707, 'artwork': 4708, 'mobster': 4709, 'earnest': 4710, 'pixar': 4711, 'dim': 4712, 'pacif': 4713, 'miracul': 4714, 'bate': 4715, 'jade': 4716, 'europa': 4717, 'pickford': 4718, 'parson': 4719, 'neill': 4720, 'wendigo': 4721, 'dylan': 4722, 'timberlak': 4723, 'cliffhang': 4724, 'vanessa': 4725, 'akin': 4726, 'orphan': 4727, 'sicken': 4728, 'toronto': 4729, 'antholog': 4730, 'holocaust': 4731, 'jo': 4732, 'illus': 4733, 'vile': 4734, 'bondag': 4735, 'milo': 4736, 'blatantli': 4737, 'razor': 4738, 'lucil': 4739, 'northern': 4740, 'misfortun': 4741, 'redneck': 4742, 'static': 4743, 'legitim': 4744, 'token': 4745, 'cerebr': 4746, 'estrang': 4747, 'seedi': 4748, 'foil': 4749, 'wardrob': 4750, 'feast': 4751, 'articl': 4752, 'aris': 4753, 'choke': 4754, 'eli': 4755, 'nope': 4756, 'bikini': 4757, 'pc': 4758, 'uma': 4759, 'marlon': 4760, 'jordan': 4761, 'isra': 4762, 'rooki': 4763, 'breakfast': 4764, 'lui': 4765, 'venom': 4766, 'electron': 4767, 'trier': 4768, 'alexandr': 4769, 'winchest': 4770, 'http': 4771, 'shepherd': 4772, 'mason': 4773, 'flavor': 4774, 'mathieu': 4775, 'oppon': 4776, 'wrestler': 4777, 'fifth': 4778, 'abund': 4779, 'outdat': 4780, 'turd': 4781, 'cartoonish': 4782, 'glare': 4783, 'ideolog': 4784, 'deem': 4785, 'gilbert': 4786, 'nightclub': 4787, 'swept': 4788, 'clinic': 4789, 'comprehend': 4790, 'affleck': 4791, 'shorter': 4792, 'leather': 4793, 'frog': 4794, 'magician': 4795, 'styliz': 4796, 'boyer': 4797, 'howl': 4798, 'audrey': 4799, 'tack': 4800, 'highway': 4801, 'retriev': 4802, 'psych': 4803, 'linear': 4804, 'dudley': 4805, 'feminin': 4806, 'peer': 4807, 'ceremoni': 4808, 'huston': 4809, 'knightley': 4810, 'disregard': 4811, 'charlton': 4812, 'smack': 4813, 'gunga': 4814, 'toe': 4815, 'newer': 4816, 'energet': 4817, '4th': 4818, 'breakdown': 4819, 'collector': 4820, 'tara': 4821, 'boo': 4822, 'client': 4823, 'plate': 4824, 'lavish': 4825, 'chip': 4826, 'bastard': 4827, 'spawn': 4828, 'whack': 4829, 'senat': 4830, 'cuban': 4831, 'mitch': 4832, 'lighter': 4833, 'bogu': 4834, '1994': 4835, 'snatch': 4836, 'potter': 4837, 'spine': 4838, 'compris': 4839, 'summar': 4840, 'sleaz': 4841, 'durat': 4842, 'uniformli': 4843, 'corn': 4844, 'moe': 4845, 'greet': 4846, 'monument': 4847, 'phenomen': 4848, 'evolut': 4849, 'cemeteri': 4850, 'goldsworthi': 4851, 'lifeless': 4852, 'braveheart': 4853, 'salman': 4854, 'btw': 4855, '1991': 4856, 'deliver': 4857, 'conrad': 4858, 'einstein': 4859, 'jare': 4860, 'gilliam': 4861, 'occup': 4862, 'neatli': 4863, 'creek': 4864, 'ie': 4865, 'bulk': 4866, 'nina': 4867, 'evelyn': 4868, 'eleven': 4869, 'sorrow': 4870, 'undead': 4871, 'wtf': 4872, 'firmli': 4873, 'randolph': 4874, 'trauma': 4875, 'bori': 4876, 'belli': 4877, 'liu': 4878, 'kent': 4879, 'historian': 4880, 'appl': 4881, 'clara': 4882, 'jedi': 4883, 'jule': 4884, 'luxuri': 4885, 'embark': 4886, '1974': 4887, 'undertak': 4888, 'fluid': 4889, 'judd': 4890, 'jam': 4891, 'mcqueen': 4892, 'outright': 4893, 'capot': 4894, 'spectacl': 4895, 'alleg': 4896, 'cecil': 4897, 'replay': 4898, 'constitut': 4899, 'ol': 4900, 'healthi': 4901, 'lex': 4902, 'pronounc': 4903, 'inaccuraci': 4904, '1977': 4905, 'signal': 4906, 'kazan': 4907, 'armstrong': 4908, 'lauren': 4909, 'antonio': 4910, 'porter': 4911, 'forgiven': 4912, 'pepper': 4913, 'tokyo': 4914, 'goldblum': 4915, 'poker': 4916, 'knee': 4917, 'decapit': 4918, 'aussi': 4919, 'relentless': 4920, 'palm': 4921, 'bsg': 4922, 'vain': 4923, 'meal': 4924, 'basket': 4925, 'id': 4926, 'subtli': 4927, 'comprehens': 4928, 'ash': 4929, 'sidewalk': 4930, 'sacrif': 4931, 'inaccur': 4932, 'roar': 4933, 'comb': 4934, 'blur': 4935, 'spray': 4936, 'cape': 4937, 'mum': 4938, '1985': 4939, 'propheci': 4940, 'pioneer': 4941, 'walt': 4942, 'groan': 4943, 'truman': 4944, 'inclus': 4945, 'unsuspect': 4946, 'kiddi': 4947, 'miami': 4948, 'carmen': 4949, 'abound': 4950, 'vignett': 4951, 'genet': 4952, 'congratul': 4953, 'curtain': 4954, 'galaxi': 4955, 'miniseri': 4956, 'conan': 4957, 'unattract': 4958, 'bait': 4959, 'fruit': 4960, 'rosario': 4961, 'paula': 4962, 'lanc': 4963, 'assort': 4964, 'substanti': 4965, 'mice': 4966, 'victorian': 4967, 'ingrid': 4968, 'macabr': 4969, 'vastli': 4970, 'detach': 4971, 'motorcycl': 4972, 'growth': 4973, 'orchestr': 4974, 'incorrect': 4975, 'scariest': 4976, 'bach': 4977, 'optimist': 4978, '21st': 4979, 'weaker': 4980, 'playboy': 4981, 'epitom': 4982, 'omin': 4983, 'asset': 4984, 'monti': 4985, 'verg': 4986, 'hostil': 4987, 'profil': 4988, 'sparkl': 4989, 'dubiou': 4990, 'spill': 4991, 'jill': 4992, 'bravo': 4993, 'drone': 4994, 'rapidli': 4995, 'casper': 4996, 'handicap': 4997, 'scarfac': 4998, 'weari': 4999}\n"
          ],
          "name": "stdout"
        }
      ]
    },
    {
      "metadata": {
        "id": "0YtU5jSfO0FI",
        "colab_type": "text"
      },
      "cell_type": "markdown",
      "source": [
        "**Question:** What are the five most frequently appearing (tokenized) words in the training set? Does it makes sense that these words appear frequently in the training set?"
      ]
    },
    {
      "metadata": {
        "id": "pbfZo1faO0FK",
        "colab_type": "text"
      },
      "cell_type": "markdown",
      "source": [
        "**Answer:**"
      ]
    },
    {
      "metadata": {
        "id": "87l13NGTO0FL",
        "colab_type": "code",
        "outputId": "f76aeced-71ee-49c0-82ee-0cb688a6f4f8",
        "colab": {
          "base_uri": "https://localhost:8080/",
          "height": 34
        }
      },
      "cell_type": "code",
      "source": [
        "# TODO: Use this space to determine the five most frequently appearing words in the training set.\n",
        "most_freq_words_num = 5\n",
        "keys = [key for key in word_dict.keys()][:most_freq_words_num]\n",
        "print(keys)\n"
      ],
      "execution_count": 131,
      "outputs": [
        {
          "output_type": "stream",
          "text": [
            "['movi', 'film', 'one', 'like', 'time']\n"
          ],
          "name": "stdout"
        }
      ]
    },
    {
      "metadata": {
        "id": "pFvDYspQO0FO",
        "colab_type": "text"
      },
      "cell_type": "markdown",
      "source": [
        "### Save `word_dict`\n",
        "\n",
        "Later on when we construct an endpoint which processes a submitted review we will need to make use of the `word_dict` which we have created. As such, we will save it to a file now for future use."
      ]
    },
    {
      "metadata": {
        "id": "u2ZTvHNEO0FQ",
        "colab_type": "code",
        "colab": {}
      },
      "cell_type": "code",
      "source": [
        "data_dir = '../data/pytorch' # The folder we will use for storing data\n",
        "if not os.path.exists(data_dir): # Make sure that the folder exists\n",
        "    os.makedirs(data_dir)"
      ],
      "execution_count": 0,
      "outputs": []
    },
    {
      "metadata": {
        "id": "PMi1YwbeO0FY",
        "colab_type": "code",
        "colab": {}
      },
      "cell_type": "code",
      "source": [
        "with open(os.path.join(data_dir, 'word_dict.pkl'), \"wb\") as f:\n",
        "    pickle.dump(word_dict, f)"
      ],
      "execution_count": 0,
      "outputs": []
    },
    {
      "metadata": {
        "id": "eMd5EcWMdkvn",
        "colab_type": "code",
        "colab": {
          "base_uri": "https://localhost:8080/",
          "height": 408
        },
        "outputId": "d16bf2b5-2e2d-40a8-b1ba-fca34ba1e9bd"
      },
      "cell_type": "code",
      "source": [
        "train_x_100_backup = train_X[100]\n",
        "train_x_100_backup"
      ],
      "execution_count": 135,
      "outputs": [
        {
          "output_type": "execute_result",
          "data": {
            "text/plain": [
              "['read',\n",
              " 'novel',\n",
              " 'year',\n",
              " 'ago',\n",
              " 'like',\n",
              " 'lot',\n",
              " 'saw',\n",
              " 'movi',\n",
              " 'believ',\n",
              " 'chang',\n",
              " 'everyth',\n",
              " 'like',\n",
              " 'novel',\n",
              " 'even',\n",
              " 'plot',\n",
              " 'wonder',\n",
              " 'isabel',\n",
              " 'allend',\n",
              " 'author',\n",
              " 'say',\n",
              " 'movi',\n",
              " 'think',\n",
              " 'suck']"
            ]
          },
          "metadata": {
            "tags": []
          },
          "execution_count": 135
        }
      ]
    },
    {
      "metadata": {
        "id": "kKyAdX77O0Fa",
        "colab_type": "text"
      },
      "cell_type": "markdown",
      "source": [
        "### Transform the reviews\n",
        "\n",
        "Now that we have our word dictionary which allows us to transform the words appearing in the reviews into integers, it is time to make use of it and convert our reviews to their integer sequence representation, making sure to pad or truncate to a fixed length, which in our case is `500`."
      ]
    },
    {
      "metadata": {
        "id": "vYbbQp7MO0Fb",
        "colab_type": "code",
        "colab": {}
      },
      "cell_type": "code",
      "source": [
        "def convert_and_pad(word_dict, sentence, pad=500):\n",
        "    NOWORD = 0 # We will use 0 to represent the 'no word' category\n",
        "    INFREQ = 1 # and we use 1 to represent the infrequent words, i.e., words not appearing in word_dict\n",
        "    \n",
        "    working_sentence = [NOWORD] * pad\n",
        "    \n",
        "    for word_index, word in enumerate(sentence[:pad]):\n",
        "        if word in word_dict:\n",
        "            working_sentence[word_index] = word_dict[word]\n",
        "        else:\n",
        "            working_sentence[word_index] = INFREQ\n",
        "            \n",
        "    return working_sentence, min(len(sentence), pad)\n",
        "\n",
        "def convert_and_pad_data(word_dict, data, pad=500):\n",
        "    result = []\n",
        "    lengths = []\n",
        "    \n",
        "    for sentence in data:\n",
        "        #print(sentence)\n",
        "        converted, leng = convert_and_pad(word_dict, sentence, pad)\n",
        "        result.append(converted)\n",
        "        lengths.append(leng)\n",
        "        #break\n",
        "        \n",
        "    return np.array(result), np.array(lengths)"
      ],
      "execution_count": 0,
      "outputs": []
    },
    {
      "metadata": {
        "id": "9tcIso0ZO0Fg",
        "colab_type": "code",
        "colab": {}
      },
      "cell_type": "code",
      "source": [
        "train_X, train_X_len = convert_and_pad_data(word_dict, train_X)\n",
        "test_X, test_X_len = convert_and_pad_data(word_dict, test_X)"
      ],
      "execution_count": 0,
      "outputs": []
    },
    {
      "metadata": {
        "id": "5-tHYGPAO0Fk",
        "colab_type": "text"
      },
      "cell_type": "markdown",
      "source": [
        "As a quick check to make sure that things are working as intended, check to see what one of the reviews in the training set looks like after having been processeed. Does this look reasonable? What is the length of a review in the training set?"
      ]
    },
    {
      "metadata": {
        "id": "xpVk8oyNO0Fk",
        "colab_type": "code",
        "colab": {
          "base_uri": "https://localhost:8080/",
          "height": 1020
        },
        "outputId": "4bfb8663-25f8-4481-aade-876142f6903a"
      },
      "cell_type": "code",
      "source": [
        "# Use this cell to examine one of the processed reviews to make sure everything is working as intended.\n",
        "\n",
        "for word in train_x_100_backup:\n",
        "  word_int = word_dict.get(word, 1)\n",
        "  print(word_int)\n",
        "  \n",
        "print(train_X[100])\n",
        "\n",
        "  \n",
        "  "
      ],
      "execution_count": 142,
      "outputs": [
        {
          "output_type": "stream",
          "text": [
            "171\n",
            "481\n",
            "44\n",
            "536\n",
            "5\n",
            "70\n",
            "135\n",
            "2\n",
            "94\n",
            "255\n",
            "207\n",
            "5\n",
            "481\n",
            "14\n",
            "41\n",
            "108\n",
            "4222\n",
            "1\n",
            "1076\n",
            "38\n",
            "2\n",
            "30\n",
            "749\n",
            "[ 171  481   44  536    5   70  135    2   94  255  207    5  481   14\n",
            "   41  108 4222    1 1076   38    2   30  749    0    0    0    0    0\n",
            "    0    0    0    0    0    0    0    0    0    0    0    0    0    0\n",
            "    0    0    0    0    0    0    0    0    0    0    0    0    0    0\n",
            "    0    0    0    0    0    0    0    0    0    0    0    0    0    0\n",
            "    0    0    0    0    0    0    0    0    0    0    0    0    0    0\n",
            "    0    0    0    0    0    0    0    0    0    0    0    0    0    0\n",
            "    0    0    0    0    0    0    0    0    0    0    0    0    0    0\n",
            "    0    0    0    0    0    0    0    0    0    0    0    0    0    0\n",
            "    0    0    0    0    0    0    0    0    0    0    0    0    0    0\n",
            "    0    0    0    0    0    0    0    0    0    0    0    0    0    0\n",
            "    0    0    0    0    0    0    0    0    0    0    0    0    0    0\n",
            "    0    0    0    0    0    0    0    0    0    0    0    0    0    0\n",
            "    0    0    0    0    0    0    0    0    0    0    0    0    0    0\n",
            "    0    0    0    0    0    0    0    0    0    0    0    0    0    0\n",
            "    0    0    0    0    0    0    0    0    0    0    0    0    0    0\n",
            "    0    0    0    0    0    0    0    0    0    0    0    0    0    0\n",
            "    0    0    0    0    0    0    0    0    0    0    0    0    0    0\n",
            "    0    0    0    0    0    0    0    0    0    0    0    0    0    0\n",
            "    0    0    0    0    0    0    0    0    0    0    0    0    0    0\n",
            "    0    0    0    0    0    0    0    0    0    0    0    0    0    0\n",
            "    0    0    0    0    0    0    0    0    0    0    0    0    0    0\n",
            "    0    0    0    0    0    0    0    0    0    0    0    0    0    0\n",
            "    0    0    0    0    0    0    0    0    0    0    0    0    0    0\n",
            "    0    0    0    0    0    0    0    0    0    0    0    0    0    0\n",
            "    0    0    0    0    0    0    0    0    0    0    0    0    0    0\n",
            "    0    0    0    0    0    0    0    0    0    0    0    0    0    0\n",
            "    0    0    0    0    0    0    0    0    0    0    0    0    0    0\n",
            "    0    0    0    0    0    0    0    0    0    0    0    0    0    0\n",
            "    0    0    0    0    0    0    0    0    0    0    0    0    0    0\n",
            "    0    0    0    0    0    0    0    0    0    0    0    0    0    0\n",
            "    0    0    0    0    0    0    0    0    0    0    0    0    0    0\n",
            "    0    0    0    0    0    0    0    0    0    0    0    0    0    0\n",
            "    0    0    0    0    0    0    0    0    0    0    0    0    0    0\n",
            "    0    0    0    0    0    0    0    0    0    0    0    0    0    0\n",
            "    0    0    0    0    0    0    0    0    0    0]\n"
          ],
          "name": "stdout"
        }
      ]
    },
    {
      "metadata": {
        "id": "dgwJtfWBO0Fn",
        "colab_type": "text"
      },
      "cell_type": "markdown",
      "source": [
        "**Question:** In the cells above we use the `preprocess_data` and `convert_and_pad_data` methods to process both the training and testing set. Why or why not might this be a problem?"
      ]
    },
    {
      "metadata": {
        "id": "FiLFbbQnO0Fo",
        "colab_type": "text"
      },
      "cell_type": "markdown",
      "source": [
        "**Answer:**"
      ]
    },
    {
      "metadata": {
        "id": "Q_h4t03pO0Fo",
        "colab_type": "text"
      },
      "cell_type": "markdown",
      "source": [
        "## Step 3: Upload the data to S3\n",
        "\n",
        "As in the XGBoost notebook, we will need to upload the training dataset to S3 in order for our training code to access it. For now we will save it locally and we will upload to S3 later on.\n",
        "\n",
        "### Save the processed training dataset locally\n",
        "\n",
        "It is important to note the format of the data that we are saving as we will need to know it when we write the training code. In our case, each row of the dataset has the form `label`, `length`, `review[500]` where `review[500]` is a sequence of `500` integers representing the words in the review."
      ]
    },
    {
      "metadata": {
        "id": "ZJM3NoHlO0Fp",
        "colab_type": "code",
        "colab": {}
      },
      "cell_type": "code",
      "source": [
        "import pandas as pd\n",
        "    \n",
        "pd.concat([pd.DataFrame(train_y), pd.DataFrame(train_X_len), pd.DataFrame(train_X)], axis=1) \\\n",
        "        .to_csv(os.path.join(data_dir, 'train.csv'), header=False, index=False)"
      ],
      "execution_count": 0,
      "outputs": []
    },
    {
      "metadata": {
        "id": "gGgq0O8rO0Fs",
        "colab_type": "text"
      },
      "cell_type": "markdown",
      "source": [
        "### Uploading the training data\n",
        "\n",
        "\n",
        "Next, we need to upload the training data to the SageMaker default S3 bucket so that we can provide access to it while training our model."
      ]
    },
    {
      "metadata": {
        "id": "RFpo_EP6O0Fs",
        "colab_type": "code",
        "colab": {
          "base_uri": "https://localhost:8080/",
          "height": 367
        },
        "outputId": "3954eee1-7b91-46cb-ca88-742911c33d64"
      },
      "cell_type": "code",
      "source": [
        "import sagemaker\n",
        "\n",
        "sagemaker_session = sagemaker.Session()\n",
        "\n",
        "bucket = sagemaker_session.default_bucket()\n",
        "prefix = 'sagemaker/sentiment_rnn'\n",
        "\n",
        "role = sagemaker.get_execution_role()"
      ],
      "execution_count": 144,
      "outputs": [
        {
          "output_type": "error",
          "ename": "ModuleNotFoundError",
          "evalue": "ignored",
          "traceback": [
            "\u001b[0;31m---------------------------------------------------------------------------\u001b[0m",
            "\u001b[0;31mModuleNotFoundError\u001b[0m                       Traceback (most recent call last)",
            "\u001b[0;32m<ipython-input-144-44b92e9ccb48>\u001b[0m in \u001b[0;36m<module>\u001b[0;34m()\u001b[0m\n\u001b[0;32m----> 1\u001b[0;31m \u001b[0;32mimport\u001b[0m \u001b[0msagemaker\u001b[0m\u001b[0;34m\u001b[0m\u001b[0;34m\u001b[0m\u001b[0m\n\u001b[0m\u001b[1;32m      2\u001b[0m \u001b[0;34m\u001b[0m\u001b[0m\n\u001b[1;32m      3\u001b[0m \u001b[0msagemaker_session\u001b[0m \u001b[0;34m=\u001b[0m \u001b[0msagemaker\u001b[0m\u001b[0;34m.\u001b[0m\u001b[0mSession\u001b[0m\u001b[0;34m(\u001b[0m\u001b[0;34m)\u001b[0m\u001b[0;34m\u001b[0m\u001b[0;34m\u001b[0m\u001b[0m\n\u001b[1;32m      4\u001b[0m \u001b[0;34m\u001b[0m\u001b[0m\n\u001b[1;32m      5\u001b[0m \u001b[0mbucket\u001b[0m \u001b[0;34m=\u001b[0m \u001b[0msagemaker_session\u001b[0m\u001b[0;34m.\u001b[0m\u001b[0mdefault_bucket\u001b[0m\u001b[0;34m(\u001b[0m\u001b[0;34m)\u001b[0m\u001b[0;34m\u001b[0m\u001b[0;34m\u001b[0m\u001b[0m\n",
            "\u001b[0;31mModuleNotFoundError\u001b[0m: No module named 'sagemaker'",
            "",
            "\u001b[0;31m---------------------------------------------------------------------------\u001b[0;32m\nNOTE: If your import is failing due to a missing package, you can\nmanually install dependencies using either !pip or !apt.\n\nTo view examples of installing some common dependencies, click the\n\"Open Examples\" button below.\n\u001b[0;31m---------------------------------------------------------------------------\u001b[0m\n"
          ]
        }
      ]
    },
    {
      "metadata": {
        "id": "vrTrldz8O0Fv",
        "colab_type": "code",
        "colab": {}
      },
      "cell_type": "code",
      "source": [
        "input_data = sagemaker_session.upload_data(path=data_dir, bucket=bucket, key_prefix=prefix)"
      ],
      "execution_count": 0,
      "outputs": []
    },
    {
      "metadata": {
        "id": "Kc76Q0R2O0Fy",
        "colab_type": "text"
      },
      "cell_type": "markdown",
      "source": [
        "**NOTE:** The cell above uploads the entire contents of our data directory. This includes the `word_dict.pkl` file. This is fortunate as we will need this later on when we create an endpoint that accepts an arbitrary review. For now, we will just take note of the fact that it resides in the data directory (and so also in the S3 training bucket) and that we will need to make sure it gets saved in the model directory."
      ]
    },
    {
      "metadata": {
        "id": "dbgTg2OyO0Fz",
        "colab_type": "text"
      },
      "cell_type": "markdown",
      "source": [
        "## Step 4: Build and Train the PyTorch Model\n",
        "\n",
        "In the XGBoost notebook we discussed what a model is in the SageMaker framework. In particular, a model comprises three objects\n",
        "\n",
        " - Model Artifacts,\n",
        " - Training Code, and\n",
        " - Inference Code,\n",
        " \n",
        "each of which interact with one another. In the XGBoost example we used training and inference code that was provided by Amazon. Here we will still be using containers provided by Amazon with the added benefit of being able to include our own custom code.\n",
        "\n",
        "We will start by implementing our own neural network in PyTorch along with a training script. For the purposes of this project we have provided the necessary model object in the `model.py` file, inside of the `train` folder. You can see the provided implementation by running the cell below."
      ]
    },
    {
      "metadata": {
        "id": "czaV-4zlO0Fz",
        "colab_type": "code",
        "colab": {}
      },
      "cell_type": "code",
      "source": [
        "!pygmentize train/model.py"
      ],
      "execution_count": 0,
      "outputs": []
    },
    {
      "metadata": {
        "id": "3ME30sH-O0F2",
        "colab_type": "text"
      },
      "cell_type": "markdown",
      "source": [
        "The important takeaway from the implementation provided is that there are three parameters that we may wish to tweak to improve the performance of our model. These are the embedding dimension, the hidden dimension and the size of the vocabulary. We will likely want to make these parameters configurable in the training script so that if we wish to modify them we do not need to modify the script itself. We will see how to do this later on. To start we will write some of the training code in the notebook so that we can more easily diagnose any issues that arise.\n",
        "\n",
        "First we will load a small portion of the training data set to use as a sample. It would be very time consuming to try and train the model completely in the notebook as we do not have access to a gpu and the compute instance that we are using is not particularly powerful. However, we can work on a small bit of the data to get a feel for how our training script is behaving."
      ]
    },
    {
      "metadata": {
        "id": "WVjwUjbMO0F3",
        "colab_type": "code",
        "colab": {}
      },
      "cell_type": "code",
      "source": [
        "import torch\n",
        "import torch.utils.data\n",
        "\n",
        "# Read in only the first 250 rows\n",
        "train_sample = pd.read_csv(os.path.join(data_dir, 'train.csv'), header=None, names=None, nrows=250)\n",
        "\n",
        "# Turn the input pandas dataframe into tensors\n",
        "train_sample_y = torch.from_numpy(train_sample[[0]].values).float().squeeze()\n",
        "train_sample_X = torch.from_numpy(train_sample.drop([0], axis=1).values).long()\n",
        "\n",
        "# Build the dataset\n",
        "train_sample_ds = torch.utils.data.TensorDataset(train_sample_X, train_sample_y)\n",
        "# Build the dataloader\n",
        "train_sample_dl = torch.utils.data.DataLoader(train_sample_ds, batch_size=50)"
      ],
      "execution_count": 0,
      "outputs": []
    },
    {
      "metadata": {
        "id": "pF2GxrzgO0F7",
        "colab_type": "text"
      },
      "cell_type": "markdown",
      "source": [
        "### (TODO) Writing the training method\n",
        "\n",
        "Next we need to write the training code itself. This should be very similar to training methods that you have written before to train PyTorch models. We will leave any difficult aspects such as model saving / loading and parameter loading until a little later."
      ]
    },
    {
      "metadata": {
        "id": "Lf65uySLO0F7",
        "colab_type": "code",
        "colab": {}
      },
      "cell_type": "code",
      "source": [
        "def train(model, train_loader, epochs, optimizer, loss_fn, device):\n",
        "    for epoch in range(1, epochs + 1):\n",
        "        model.train()\n",
        "        total_loss = 0\n",
        "        for batch in train_loader:         \n",
        "            batch_X, batch_y = batch\n",
        "            \n",
        "            batch_X = batch_X.to(device)\n",
        "            batch_y = batch_y.to(device)\n",
        "            \n",
        "            # TODO: Complete this train method to train the model provided.\n",
        "            \n",
        "            total_loss += loss.data.item()\n",
        "        print(\"Epoch: {}, BCELoss: {}\".format(epoch, total_loss / len(train_loader)))"
      ],
      "execution_count": 0,
      "outputs": []
    },
    {
      "metadata": {
        "id": "rG-liaOUO0F_",
        "colab_type": "text"
      },
      "cell_type": "markdown",
      "source": [
        "Supposing we have the training method above, we will test that it is working by writing a bit of code in the notebook that executes our training method on the small sample training set that we loaded earlier. The reason for doing this in the notebook is so that we have an opportunity to fix any errors that arise early when they are easier to diagnose."
      ]
    },
    {
      "metadata": {
        "id": "XI23dt-6O0F_",
        "colab_type": "code",
        "colab": {}
      },
      "cell_type": "code",
      "source": [
        "import torch.optim as optim\n",
        "from train.model import LSTMClassifier\n",
        "\n",
        "device = torch.device(\"cuda\" if torch.cuda.is_available() else \"cpu\")\n",
        "model = LSTMClassifier(32, 100, 5000).to(device)\n",
        "optimizer = optim.Adam(model.parameters())\n",
        "loss_fn = torch.nn.BCELoss()\n",
        "\n",
        "train(model, train_sample_dl, 5, optimizer, loss_fn, device)"
      ],
      "execution_count": 0,
      "outputs": []
    },
    {
      "metadata": {
        "id": "WiLrUExZO0GB",
        "colab_type": "text"
      },
      "cell_type": "markdown",
      "source": [
        "In order to construct a PyTorch model using SageMaker we must provide SageMaker with a training script. We may optionally include a directory which will be copied to the container and from which our training code will be run. When the training container is executed it will check the uploaded directory (if there is one) for a `requirements.txt` file and install any required Python libraries, after which the training script will be run."
      ]
    },
    {
      "metadata": {
        "id": "cD6RwHmkO0GB",
        "colab_type": "text"
      },
      "cell_type": "markdown",
      "source": [
        "### (TODO) Training the model\n",
        "\n",
        "When a PyTorch model is constructed in SageMaker, an entry point must be specified. This is the Python file which will be executed when the model is trained. Inside of the `train` directory is a file called `train.py` which has been provided and which contains most of the necessary code to train our model. The only thing that is missing is the implementation of the `train()` method which you wrote earlier in this notebook.\n",
        "\n",
        "**TODO**: Copy the `train()` method written above and paste it into the `train/train.py` file where required.\n",
        "\n",
        "The way that SageMaker passes hyperparameters to the training script is by way of arguments. These arguments can then be parsed and used in the training script. To see how this is done take a look at the provided `train/train.py` file."
      ]
    },
    {
      "metadata": {
        "id": "AA2qVqQxO0GC",
        "colab_type": "code",
        "colab": {}
      },
      "cell_type": "code",
      "source": [
        "from sagemaker.pytorch import PyTorch\n",
        "\n",
        "estimator = PyTorch(entry_point=\"train.py\",\n",
        "                    source_dir=\"train\",\n",
        "                    role=role,\n",
        "                    framework_version='0.4.0',\n",
        "                    train_instance_count=1,\n",
        "                    train_instance_type='ml.p2.xlarge',\n",
        "                    hyperparameters={\n",
        "                        'epochs': 10,\n",
        "                        'hidden_dim': 200,\n",
        "                    })"
      ],
      "execution_count": 0,
      "outputs": []
    },
    {
      "metadata": {
        "id": "1-2wqI6nO0GF",
        "colab_type": "code",
        "colab": {}
      },
      "cell_type": "code",
      "source": [
        "estimator.fit({'training': input_data})"
      ],
      "execution_count": 0,
      "outputs": []
    },
    {
      "metadata": {
        "id": "h1AN7lMDO0GH",
        "colab_type": "text"
      },
      "cell_type": "markdown",
      "source": [
        "## Step 5: Testing the model\n",
        "\n",
        "As mentioned at the top of this notebook, we will be testing this model by first deploying it and then sending the testing data to the deployed endpoint. We will do this so that we can make sure that the deployed model is working correctly.\n",
        "\n",
        "## Step 6: Deploy the model for testing\n",
        "\n",
        "Now that we have trained our model, we would like to test it to see how it performs. Currently our model takes input of the form `review_length, review[500]` where `review[500]` is a sequence of `500` integers which describe the words present in the review, encoded using `word_dict`. Fortunately for us, SageMaker provides built-in inference code for models with simple inputs such as this.\n",
        "\n",
        "There is one thing that we need to provide, however, and that is a function which loads the saved model. This function must be called `model_fn()` and takes as its only parameter a path to the directory where the model artifacts are stored. This function must also be present in the python file which we specified as the entry point. In our case the model loading function has been provided and so no changes need to be made.\n",
        "\n",
        "**NOTE**: When the built-in inference code is run it must import the `model_fn()` method from the `train.py` file. This is why the training code is wrapped in a main guard ( ie, `if __name__ == '__main__':` )\n",
        "\n",
        "Since we don't need to change anything in the code that was uploaded during training, we can simply deploy the current model as-is.\n",
        "\n",
        "**NOTE:** When deploying a model you are asking SageMaker to launch an compute instance that will wait for data to be sent to it. As a result, this compute instance will continue to run until *you* shut it down. This is important to know since the cost of a deployed endpoint depends on how long it has been running for.\n",
        "\n",
        "In other words **If you are no longer using a deployed endpoint, shut it down!**\n",
        "\n",
        "**TODO:** Deploy the trained model."
      ]
    },
    {
      "metadata": {
        "id": "k_4onM-8O0GI",
        "colab_type": "code",
        "colab": {}
      },
      "cell_type": "code",
      "source": [
        "# TODO: Deploy the trained model"
      ],
      "execution_count": 0,
      "outputs": []
    },
    {
      "metadata": {
        "id": "uy3nZrD0O0GJ",
        "colab_type": "text"
      },
      "cell_type": "markdown",
      "source": [
        "## Step 7 - Use the model for testing\n",
        "\n",
        "Once deployed, we can read in the test data and send it off to our deployed model to get some results. Once we collect all of the results we can determine how accurate our model is."
      ]
    },
    {
      "metadata": {
        "id": "9Cc5NvHRO0GL",
        "colab_type": "code",
        "colab": {}
      },
      "cell_type": "code",
      "source": [
        "test_X = pd.concat([pd.DataFrame(test_X_len), pd.DataFrame(test_X)], axis=1)"
      ],
      "execution_count": 0,
      "outputs": []
    },
    {
      "metadata": {
        "id": "cs_eDLMWO0GU",
        "colab_type": "code",
        "colab": {}
      },
      "cell_type": "code",
      "source": [
        "# We split the data into chunks and send each chunk seperately, accumulating the results.\n",
        "\n",
        "def predict(data, rows=512):\n",
        "    split_array = np.array_split(data, int(data.shape[0] / float(rows) + 1))\n",
        "    predictions = np.array([])\n",
        "    for array in split_array:\n",
        "        predictions = np.append(predictions, predictor.predict(array))\n",
        "    \n",
        "    return predictions"
      ],
      "execution_count": 0,
      "outputs": []
    },
    {
      "metadata": {
        "id": "zeMNiw4kO0GW",
        "colab_type": "code",
        "colab": {}
      },
      "cell_type": "code",
      "source": [
        "predictions = predict(test_X.values)\n",
        "predictions = [round(num) for num in predictions]"
      ],
      "execution_count": 0,
      "outputs": []
    },
    {
      "metadata": {
        "id": "VefzpGisO0GY",
        "colab_type": "code",
        "colab": {}
      },
      "cell_type": "code",
      "source": [
        "from sklearn.metrics import accuracy_score\n",
        "accuracy_score(test_y, predictions)"
      ],
      "execution_count": 0,
      "outputs": []
    },
    {
      "metadata": {
        "id": "1ta6LcfvO0Gc",
        "colab_type": "text"
      },
      "cell_type": "markdown",
      "source": [
        "**Question:** How does this model compare to the XGBoost model you created earlier? Why might these two models perform differently on this dataset? Which do *you* think is better for sentiment analysis?"
      ]
    },
    {
      "metadata": {
        "id": "AC2d87M_O0Gd",
        "colab_type": "text"
      },
      "cell_type": "markdown",
      "source": [
        "**Answer:**"
      ]
    },
    {
      "metadata": {
        "id": "ql4uDYqhO0Gj",
        "colab_type": "text"
      },
      "cell_type": "markdown",
      "source": [
        "### (TODO) More testing\n",
        "\n",
        "We now have a trained model which has been deployed and which we can send processed reviews to and which returns the predicted sentiment. However, ultimately we would like to be able to send our model an unprocessed review. That is, we would like to send the review itself as a string. For example, suppose we wish to send the following review to our model."
      ]
    },
    {
      "metadata": {
        "id": "xjW9vL1VO0Gl",
        "colab_type": "code",
        "colab": {}
      },
      "cell_type": "code",
      "source": [
        "test_review = 'The simplest pleasures in life are the best, and this film is one of them. Combining a rather basic storyline of love and adventure this movie transcends the usual weekend fair with wit and unmitigated charm.'"
      ],
      "execution_count": 0,
      "outputs": []
    },
    {
      "metadata": {
        "id": "CtsPre2gO0Gn",
        "colab_type": "text"
      },
      "cell_type": "markdown",
      "source": [
        "The question we now need to answer is, how do we send this review to our model?\n",
        "\n",
        "Recall in the first section of this notebook we did a bunch of data processing to the IMDb dataset. In particular, we did two specific things to the provided reviews.\n",
        " - Removed any html tags and stemmed the input\n",
        " - Encoded the review as a sequence of integers using `word_dict`\n",
        " \n",
        "In order process the review we will need to repeat these two steps.\n",
        "\n",
        "**TODO**: Using the `review_to_words` and `convert_and_pad` methods from section one, convert `test_review` into a numpy array `test_data` suitable to send to our model. Remember that our model expects input of the form `review_length, review[500]`."
      ]
    },
    {
      "metadata": {
        "id": "ydUObxMWO0Go",
        "colab_type": "code",
        "colab": {}
      },
      "cell_type": "code",
      "source": [
        "# TODO: Convert test_review into a form usable by the model and save the results in test_data\n",
        "test_data = None"
      ],
      "execution_count": 0,
      "outputs": []
    },
    {
      "metadata": {
        "id": "o4O7kk2OO0Gq",
        "colab_type": "text"
      },
      "cell_type": "markdown",
      "source": [
        "Now that we have processed the review, we can send the resulting array to our model to predict the sentiment of the review."
      ]
    },
    {
      "metadata": {
        "id": "LiWw8oILO0Gr",
        "colab_type": "code",
        "colab": {}
      },
      "cell_type": "code",
      "source": [
        "predictor.predict(test_data)"
      ],
      "execution_count": 0,
      "outputs": []
    },
    {
      "metadata": {
        "id": "HZnNObXHO0Gt",
        "colab_type": "text"
      },
      "cell_type": "markdown",
      "source": [
        "Since the return value of our model is close to `1`, we can be certain that the review we submitted is positive."
      ]
    },
    {
      "metadata": {
        "id": "T2PR8vsqO0Gt",
        "colab_type": "text"
      },
      "cell_type": "markdown",
      "source": [
        "### Delete the endpoint\n",
        "\n",
        "Of course, just like in the XGBoost notebook, once we've deployed an endpoint it continues to run until we tell it to shut down. Since we are done using our endpoint for now, we can delete it."
      ]
    },
    {
      "metadata": {
        "id": "1rSzPr7iO0Gu",
        "colab_type": "code",
        "colab": {}
      },
      "cell_type": "code",
      "source": [
        "estimator.delete_endpoint()"
      ],
      "execution_count": 0,
      "outputs": []
    },
    {
      "metadata": {
        "id": "LhuuoGnRO0Gw",
        "colab_type": "text"
      },
      "cell_type": "markdown",
      "source": [
        "## Step 6 (again) - Deploy the model for the web app\n",
        "\n",
        "Now that we know that our model is working, it's time to create some custom inference code so that we can send the model a review which has not been processed and have it determine the sentiment of the review.\n",
        "\n",
        "As we saw above, by default the estimator which we created, when deployed, will use the entry script and directory which we provided when creating the model. However, since we now wish to accept a string as input and our model expects a processed review, we need to write some custom inference code.\n",
        "\n",
        "We will store the code that we write in the `serve` directory. Provided in this directory is the `model.py` file that we used to construct our model, a `utils.py` file which contains the `review_to_words` and `convert_and_pad` pre-processing functions which we used during the initial data processing, and `predict.py`, the file which will contain our custom inference code. Note also that `requirements.txt` is present which will tell SageMaker what Python libraries are required by our custom inference code.\n",
        "\n",
        "When deploying a PyTorch model in SageMaker, you are expected to provide four functions which the SageMaker inference container will use.\n",
        " - `model_fn`: This function is the same function that we used in the training script and it tells SageMaker how to load our model.\n",
        " - `input_fn`: This function receives the raw serialized input that has been sent to the model's endpoint and its job is to de-serialize and make the input available for the inference code.\n",
        " - `output_fn`: This function takes the output of the inference code and its job is to serialize this output and return it to the caller of the model's endpoint.\n",
        " - `predict_fn`: The heart of the inference script, this is where the actual prediction is done and is the function which you will need to complete.\n",
        "\n",
        "For the simple website that we are constructing during this project, the `input_fn` and `output_fn` methods are relatively straightforward. We only require being able to accept a string as input and we expect to return a single value as output. You might imagine though that in a more complex application the input or output may be image data or some other binary data which would require some effort to serialize.\n",
        "\n",
        "### (TODO) Writing inference code\n",
        "\n",
        "Before writing our custom inference code, we will begin by taking a look at the code which has been provided."
      ]
    },
    {
      "metadata": {
        "id": "gd_qRK0KO0Gw",
        "colab_type": "code",
        "colab": {}
      },
      "cell_type": "code",
      "source": [
        "!pygmentize serve/predict.py"
      ],
      "execution_count": 0,
      "outputs": []
    },
    {
      "metadata": {
        "id": "mjspkbgbO0Gz",
        "colab_type": "text"
      },
      "cell_type": "markdown",
      "source": [
        "As mentioned earlier, the `model_fn` method is the same as the one provided in the training code and the `input_fn` and `output_fn` methods are very simple and your task will be to complete the `predict_fn` method. Make sure that you save the completed file as `predict.py` in the `serve` directory.\n",
        "\n",
        "**TODO**: Complete the `predict_fn()` method in the `serve/predict.py` file."
      ]
    },
    {
      "metadata": {
        "id": "OJcjUCtBO0G0",
        "colab_type": "text"
      },
      "cell_type": "markdown",
      "source": [
        "### Deploying the model\n",
        "\n",
        "Now that the custom inference code has been written, we will create and deploy our model. To begin with, we need to construct a new PyTorchModel object which points to the model artifacts created during training and also points to the inference code that we wish to use. Then we can call the deploy method to launch the deployment container.\n",
        "\n",
        "**NOTE**: The default behaviour for a deployed PyTorch model is to assume that any input passed to the predictor is a `numpy` array. In our case we want to send a string so we need to construct a simple wrapper around the `RealTimePredictor` class to accomodate simple strings. In a more complicated situation you may want to provide a serialization object, for example if you wanted to sent image data."
      ]
    },
    {
      "metadata": {
        "id": "Euhml2Y4O0G1",
        "colab_type": "code",
        "colab": {}
      },
      "cell_type": "code",
      "source": [
        "from sagemaker.predictor import RealTimePredictor\n",
        "from sagemaker.pytorch import PyTorchModel\n",
        "\n",
        "class StringPredictor(RealTimePredictor):\n",
        "    def __init__(self, endpoint_name, sagemaker_session):\n",
        "        super(StringPredictor, self).__init__(endpoint_name, sagemaker_session, content_type='text/plain')\n",
        "\n",
        "model = PyTorchModel(model_data=estimator.model_data,\n",
        "                     role = role,\n",
        "                     framework_version='0.4.0',\n",
        "                     entry_point='predict.py',\n",
        "                     source_dir='serve',\n",
        "                     predictor_cls=StringPredictor)\n",
        "predictor = model.deploy(initial_instance_count=1, instance_type='ml.m4.xlarge')"
      ],
      "execution_count": 0,
      "outputs": []
    },
    {
      "metadata": {
        "id": "AV1AGxw3O0G6",
        "colab_type": "text"
      },
      "cell_type": "markdown",
      "source": [
        "### Testing the model\n",
        "\n",
        "Now that we have deployed our model with the custom inference code, we should test to see if everything is working. Here we test our model by loading the first `250` positive and negative reviews and send them to the endpoint, then collect the results. The reason for only sending some of the data is that the amount of time it takes for our model to process the input and then perform inference is quite long and so testing the entire data set would be prohibitive."
      ]
    },
    {
      "metadata": {
        "id": "y_cg45pJO0G6",
        "colab_type": "code",
        "colab": {}
      },
      "cell_type": "code",
      "source": [
        "import glob\n",
        "\n",
        "def test_reviews(data_dir='../data/aclImdb', stop=250):\n",
        "    \n",
        "    results = []\n",
        "    ground = []\n",
        "    \n",
        "    # We make sure to test both positive and negative reviews    \n",
        "    for sentiment in ['pos', 'neg']:\n",
        "        \n",
        "        path = os.path.join(data_dir, 'test', sentiment, '*.txt')\n",
        "        files = glob.glob(path)\n",
        "        \n",
        "        files_read = 0\n",
        "        \n",
        "        print('Starting ', sentiment, ' files')\n",
        "        \n",
        "        # Iterate through the files and send them to the predictor\n",
        "        for f in files:\n",
        "            with open(f) as review:\n",
        "                # First, we store the ground truth (was the review positive or negative)\n",
        "                if sentiment == 'pos':\n",
        "                    ground.append(1)\n",
        "                else:\n",
        "                    ground.append(0)\n",
        "                # Read in the review and convert to 'utf-8' for transmission via HTTP\n",
        "                review_input = review.read().encode('utf-8')\n",
        "                # Send the review to the predictor and store the results\n",
        "                results.append(int(predictor.predict(review_input)))\n",
        "                \n",
        "            # Sending reviews to our endpoint one at a time takes a while so we\n",
        "            # only send a small number of reviews\n",
        "            files_read += 1\n",
        "            if files_read == stop:\n",
        "                break\n",
        "            \n",
        "    return ground, results"
      ],
      "execution_count": 0,
      "outputs": []
    },
    {
      "metadata": {
        "id": "y_FOU4v_O0G9",
        "colab_type": "code",
        "colab": {}
      },
      "cell_type": "code",
      "source": [
        "ground, results = test_reviews()"
      ],
      "execution_count": 0,
      "outputs": []
    },
    {
      "metadata": {
        "id": "mUj_f7ogO0HD",
        "colab_type": "code",
        "colab": {}
      },
      "cell_type": "code",
      "source": [
        "from sklearn.metrics import accuracy_score\n",
        "accuracy_score(ground, results)"
      ],
      "execution_count": 0,
      "outputs": []
    },
    {
      "metadata": {
        "id": "CB2Y-964O0HF",
        "colab_type": "text"
      },
      "cell_type": "markdown",
      "source": [
        "As an additional test, we can try sending the `test_review` that we looked at earlier."
      ]
    },
    {
      "metadata": {
        "id": "QDFZ1jWeO0HJ",
        "colab_type": "code",
        "colab": {}
      },
      "cell_type": "code",
      "source": [
        "predictor.predict(test_review)"
      ],
      "execution_count": 0,
      "outputs": []
    },
    {
      "metadata": {
        "id": "LwHM7fdUO0HL",
        "colab_type": "text"
      },
      "cell_type": "markdown",
      "source": [
        "Now that we know our endpoint is working as expected, we can set up the web page that will interact with it. If you don't have time to finish the project now, make sure to skip down to the end of this notebook and shut down your endpoint. You can deploy it again when you come back."
      ]
    },
    {
      "metadata": {
        "id": "v0de_j4NO0HN",
        "colab_type": "text"
      },
      "cell_type": "markdown",
      "source": [
        "## Step 7 (again): Use the model for the web app\n",
        "\n",
        "> **TODO:** This entire section and the next contain tasks for you to complete, mostly using the AWS console.\n",
        "\n",
        "So far we have been accessing our model endpoint by constructing a predictor object which uses the endpoint and then just using the predictor object to perform inference. What if we wanted to create a web app which accessed our model? The way things are set up currently makes that not possible since in order to access a SageMaker endpoint the app would first have to authenticate with AWS using an IAM role which included access to SageMaker endpoints. However, there is an easier way! We just need to use some additional AWS services.\n",
        "\n",
        "<img src=\"https://github.com/udacity/sagemaker-deployment/blob/master/Project/Web%20App%20Diagram.svg?raw=1\">\n",
        "\n",
        "The diagram above gives an overview of how the various services will work together. On the far right is the model which we trained above and which is deployed using SageMaker. On the far left is our web app that collects a user's movie review, sends it off and expects a positive or negative sentiment in return.\n",
        "\n",
        "In the middle is where some of the magic happens. We will construct a Lambda function, which you can think of as a straightforward Python function that can be executed whenever a specified event occurs. We will give this function permission to send and recieve data from a SageMaker endpoint.\n",
        "\n",
        "Lastly, the method we will use to execute the Lambda function is a new endpoint that we will create using API Gateway. This endpoint will be a url that listens for data to be sent to it. Once it gets some data it will pass that data on to the Lambda function and then return whatever the Lambda function returns. Essentially it will act as an interface that lets our web app communicate with the Lambda function.\n",
        "\n",
        "### Setting up a Lambda function\n",
        "\n",
        "The first thing we are going to do is set up a Lambda function. This Lambda function will be executed whenever our public API has data sent to it. When it is executed it will receive the data, perform any sort of processing that is required, send the data (the review) to the SageMaker endpoint we've created and then return the result.\n",
        "\n",
        "#### Part A: Create an IAM Role for the Lambda function\n",
        "\n",
        "Since we want the Lambda function to call a SageMaker endpoint, we need to make sure that it has permission to do so. To do this, we will construct a role that we can later give the Lambda function.\n",
        "\n",
        "Using the AWS Console, navigate to the **IAM** page and click on **Roles**. Then, click on **Create role**. Make sure that the **AWS service** is the type of trusted entity selected and choose **Lambda** as the service that will use this role, then click **Next: Permissions**.\n",
        "\n",
        "In the search box type `sagemaker` and select the check box next to the **AmazonSageMakerFullAccess** policy. Then, click on **Next: Review**.\n",
        "\n",
        "Lastly, give this role a name. Make sure you use a name that you will remember later on, for example `LambdaSageMakerRole`. Then, click on **Create role**.\n",
        "\n",
        "#### Part B: Create a Lambda function\n",
        "\n",
        "Now it is time to actually create the Lambda function.\n",
        "\n",
        "Using the AWS Console, navigate to the AWS Lambda page and click on **Create a function**. When you get to the next page, make sure that **Author from scratch** is selected. Now, name your Lambda function, using a name that you will remember later on, for example `sentiment_analysis_func`. Make sure that the **Python 3.6** runtime is selected and then choose the role that you created in the previous part. Then, click on **Create Function**.\n",
        "\n",
        "On the next page you will see some information about the Lambda function you've just created. If you scroll down you should see an editor in which you can write the code that will be executed when your Lambda function is triggered. In our example, we will use the code below. \n",
        "\n",
        "```python\n",
        "# We need to use the low-level library to interact with SageMaker since the SageMaker API\n",
        "# is not available natively through Lambda.\n",
        "import boto3\n",
        "\n",
        "def lambda_handler(event, context):\n",
        "\n",
        "    # The SageMaker runtime is what allows us to invoke the endpoint that we've created.\n",
        "    runtime = boto3.Session().client('sagemaker-runtime')\n",
        "\n",
        "    # Now we use the SageMaker runtime to invoke our endpoint, sending the review we were given\n",
        "    response = runtime.invoke_endpoint(EndpointName = '**ENDPOINT NAME HERE**',    # The name of the endpoint we created\n",
        "                                       ContentType = 'text/plain',                 # The data format that is expected\n",
        "                                       Body = event['body'])                       # The actual review\n",
        "\n",
        "    # The response is an HTTP response whose body contains the result of our inference\n",
        "    result = response['Body'].read().decode('utf-8')\n",
        "\n",
        "    return {\n",
        "        'statusCode' : 200,\n",
        "        'headers' : { 'Content-Type' : 'text/plain', 'Access-Control-Allow-Origin' : '*' },\n",
        "        'body' : result\n",
        "    }\n",
        "```\n",
        "\n",
        "Once you have copy and pasted the code above into the Lambda code editor, replace the `**ENDPOINT NAME HERE**` portion with the name of the endpoint that we deployed earlier. You can determine the name of the endpoint using the code cell below."
      ]
    },
    {
      "metadata": {
        "id": "U-HbhvVAO0HP",
        "colab_type": "code",
        "colab": {}
      },
      "cell_type": "code",
      "source": [
        "predictor.endpoint"
      ],
      "execution_count": 0,
      "outputs": []
    },
    {
      "metadata": {
        "id": "XVSRbFxSO0HR",
        "colab_type": "text"
      },
      "cell_type": "markdown",
      "source": [
        "Once you have added the endpoint name to the Lambda function, click on **Save**. Your Lambda function is now up and running. Next we need to create a way for our web app to execute the Lambda function.\n",
        "\n",
        "### Setting up API Gateway\n",
        "\n",
        "Now that our Lambda function is set up, it is time to create a new API using API Gateway that will trigger the Lambda function we have just created.\n",
        "\n",
        "Using AWS Console, navigate to **Amazon API Gateway** and then click on **Get started**.\n",
        "\n",
        "On the next page, make sure that **New API** is selected and give the new api a name, for example, `sentiment_analysis_api`. Then, click on **Create API**.\n",
        "\n",
        "Now we have created an API, however it doesn't currently do anything. What we want it to do is to trigger the Lambda function that we created earlier.\n",
        "\n",
        "Select the **Actions** dropdown menu and click **Create Method**. A new blank method will be created, select its dropdown menu and select **POST**, then click on the check mark beside it.\n",
        "\n",
        "For the integration point, make sure that **Lambda Function** is selected and click on the **Use Lambda Proxy integration**. This option makes sure that the data that is sent to the API is then sent directly to the Lambda function with no processing. It also means that the return value must be a proper response object as it will also not be processed by API Gateway.\n",
        "\n",
        "Type the name of the Lambda function you created earlier into the **Lambda Function** text entry box and then click on **Save**. Click on **OK** in the pop-up box that then appears, giving permission to API Gateway to invoke the Lambda function you created.\n",
        "\n",
        "The last step in creating the API Gateway is to select the **Actions** dropdown and click on **Deploy API**. You will need to create a new Deployment stage and name it anything you like, for example `prod`.\n",
        "\n",
        "You have now successfully set up a public API to access your SageMaker model. Make sure to copy or write down the URL provided to invoke your newly created public API as this will be needed in the next step. This URL can be found at the top of the page, highlighted in blue next to the text **Invoke URL**."
      ]
    },
    {
      "metadata": {
        "id": "WPjuwjdUO0HT",
        "colab_type": "text"
      },
      "cell_type": "markdown",
      "source": [
        "## Step 4: Deploying our web app\n",
        "\n",
        "Now that we have a publicly available API, we can start using it in a web app. For our purposes, we have provided a simple static html file which can make use of the public api you created earlier.\n",
        "\n",
        "In the `website` folder there should be a file called `index.html`. Download the file to your computer and open that file up in a text editor of your choice. There should be a line which contains **\\*\\*REPLACE WITH PUBLIC API URL\\*\\***. Replace this string with the url that you wrote down in the last step and then save the file.\n",
        "\n",
        "Now, if you open `index.html` on your local computer, your browser will behave as a local web server and you can use the provided site to interact with your SageMaker model.\n",
        "\n",
        "If you'd like to go further, you can host this html file anywhere you'd like, for example using github or hosting a static site on Amazon's S3. Once you have done this you can share the link with anyone you'd like and have them play with it too!\n",
        "\n",
        "> **Important Note** In order for the web app to communicate with the SageMaker endpoint, the endpoint has to actually be deployed and running. This means that you are paying for it. Make sure that the endpoint is running when you want to use the web app but that you shut it down when you don't need it, otherwise you will end up with a surprisingly large AWS bill.\n",
        "\n",
        "**TODO:** Make sure that you include the edited `index.html` file in your project submission."
      ]
    },
    {
      "metadata": {
        "id": "0pst8PZRO0HU",
        "colab_type": "text"
      },
      "cell_type": "markdown",
      "source": [
        "Now that your web app is working, trying playing around with it and see how well it works.\n",
        "\n",
        "**Question**: Give an example of a review that you entered into your web app. What was the predicted sentiment of your example review?"
      ]
    },
    {
      "metadata": {
        "id": "jg1h2H1yO0HV",
        "colab_type": "text"
      },
      "cell_type": "markdown",
      "source": [
        "**Answer:**"
      ]
    },
    {
      "metadata": {
        "id": "65eyF4DhO0HW",
        "colab_type": "text"
      },
      "cell_type": "markdown",
      "source": [
        "### Delete the endpoint\n",
        "\n",
        "Remember to always shut down your endpoint if you are no longer using it. You are charged for the length of time that the endpoint is running so if you forget and leave it on you could end up with an unexpectedly large bill."
      ]
    },
    {
      "metadata": {
        "id": "EUk6a5XeO0HZ",
        "colab_type": "code",
        "colab": {}
      },
      "cell_type": "code",
      "source": [
        "predictor.delete_endpoint()"
      ],
      "execution_count": 0,
      "outputs": []
    },
    {
      "metadata": {
        "id": "gtsFrfnYO0He",
        "colab_type": "code",
        "colab": {}
      },
      "cell_type": "code",
      "source": [
        ""
      ],
      "execution_count": 0,
      "outputs": []
    }
  ]
}